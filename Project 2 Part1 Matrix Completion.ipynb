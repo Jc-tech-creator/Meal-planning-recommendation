{
 "cells": [
  {
   "cell_type": "code",
   "execution_count": 1,
   "id": "89f019cd",
   "metadata": {},
   "outputs": [],
   "source": [
    "import pandas as pd\n",
    "import numpy as np"
   ]
  },
  {
   "cell_type": "code",
   "execution_count": 2,
   "id": "ce97a839",
   "metadata": {},
   "outputs": [],
   "source": [
    "import json"
   ]
  },
  {
   "cell_type": "code",
   "execution_count": 3,
   "id": "55274fc4",
   "metadata": {},
   "outputs": [],
   "source": [
    "df = pd.read_json('result.json')\n",
    "df1 = df[df['title'].notna()]\n",
    "df1.reset_index(inplace = True)"
   ]
  },
  {
   "cell_type": "code",
   "execution_count": 4,
   "id": "6c32011a",
   "metadata": {},
   "outputs": [
    {
     "name": "stderr",
     "output_type": "stream",
     "text": [
      "<ipython-input-4-8d82de260327>:2: SettingWithCopyWarning: \n",
      "A value is trying to be set on a copy of a slice from a DataFrame\n",
      "\n",
      "See the caveats in the documentation: https://pandas.pydata.org/pandas-docs/stable/user_guide/indexing.html#returning-a-view-versus-a-copy\n",
      "  df2[35]=[]\n",
      "C:\\Users\\HP\\anaconda3\\lib\\site-packages\\IPython\\core\\interactiveshell.py:3437: SettingWithCopyWarning: \n",
      "A value is trying to be set on a copy of a slice from a DataFrame\n",
      "\n",
      "See the caveats in the documentation: https://pandas.pydata.org/pandas-docs/stable/user_guide/indexing.html#returning-a-view-versus-a-copy\n",
      "  exec(code_obj, self.user_global_ns, self.user_ns)\n",
      "<ipython-input-4-8d82de260327>:3: SettingWithCopyWarning: \n",
      "A value is trying to be set on a copy of a slice from a DataFrame\n",
      "\n",
      "See the caveats in the documentation: https://pandas.pydata.org/pandas-docs/stable/user_guide/indexing.html#returning-a-view-versus-a-copy\n",
      "  df2[39]=[]\n",
      "<ipython-input-4-8d82de260327>:4: SettingWithCopyWarning: \n",
      "A value is trying to be set on a copy of a slice from a DataFrame\n",
      "\n",
      "See the caveats in the documentation: https://pandas.pydata.org/pandas-docs/stable/user_guide/indexing.html#returning-a-view-versus-a-copy\n",
      "  df2[114]=[]\n",
      "<ipython-input-4-8d82de260327>:5: SettingWithCopyWarning: \n",
      "A value is trying to be set on a copy of a slice from a DataFrame\n",
      "\n",
      "See the caveats in the documentation: https://pandas.pydata.org/pandas-docs/stable/user_guide/indexing.html#returning-a-view-versus-a-copy\n",
      "  df2[241]=[]\n"
     ]
    }
   ],
   "source": [
    "df2=df1['personal_rating']\n",
    "df2[35]=[]\n",
    "df2[39]=[]\n",
    "df2[114]=[]\n",
    "df2[241]=[]\n"
   ]
  },
  {
   "cell_type": "code",
   "execution_count": 5,
   "id": "f9180b95",
   "metadata": {},
   "outputs": [],
   "source": [
    "a=[]\n",
    "for i in range(0,len(df2)):\n",
    "    for j in range(0,len(df2[i])):\n",
    "        a.append(df2[i][j][0])\n",
    "a=pd.DataFrame(a)\n",
    "b=a.drop_duplicates()"
   ]
  },
  {
   "cell_type": "code",
   "execution_count": 6,
   "id": "60854a83",
   "metadata": {},
   "outputs": [],
   "source": [
    "b=b.values.tolist()"
   ]
  },
  {
   "cell_type": "code",
   "execution_count": 7,
   "id": "e610e787",
   "metadata": {},
   "outputs": [
    {
     "name": "stdout",
     "output_type": "stream",
     "text": [
      "[['rhaeredekop from Winnipeg, MB '], ['lizgoldsmith1960 from Lincoln, MA '], ['bmaybeegeorge from Canada'], ['adventurousz from Boulder, CO '], ['epaul77 from Mississippi '], ['lizzydlangley from St. Louis '], ['Jweyant from Maine '], ['tjsnuffin from Cincinnati, OH '], ['sarahglittle7930 from Denver, CO '], ['wendymochi from Torrance '], ['ayydre from California '], ['susanweiss from Rockville, MD '], ['silvia_v from Belmont, MA '], ['Tejanacooks from Texas '], ['kevinj308 '], ['cellocath85 from Maryland '], ['mvross from Texas '], ['lhdowney from Charlotte, NC '], ['jsbjk from Winnetka, IL '], ['karen8221 from Westchester County, NY '], ['idesalos from Houston '], ['colettestp from Montreal, Canada '], ['yoshihaga22 from Laguna Beach, Ca. '], ['anniemh5 '], ['diana.kulpa1463 from Toronto, ON '], ['ilyssa2 from NY, NY '], ['dory92064 from San Diego, CA '], ['travel80 from Winnipeg, MB '], ['amyhenriott '], ['mhaas12 from Philadelphia, PA '], ['mtnmeye '], ['greenstein.rebecca9820 from NY, NY '], ['mmtomd from Chicago IL '], ['fkirby from Santa Fe, NM '], ['nkbrooks from Ottawa, ON '], ['denisetherealtor from Carterville, MO '], ['meghanpholmes from Chanhassen MN '], ['zutalors85 from nyc-sf '], ['cma121680 from Westchester, NY '], ['Merrill from Franktown, CO '], ['jennympls from minneapolis, mn '], ['RabiaS from Philadelphia, PA '], ['DevilFish from Toronto, Ontario '], ['A Cook '], ['A Cook from Chicago, IL '], ['A Cook from Berkeley, CA '], ['CraftyFarmer '], ['Atacat from San Francisco, CA '], ['insearchofgoodfood from Vermont '], ['brushjl from solon, oh '], ['tatyana_poirier from Montreal, QC '], ['auntwebbie from Allen, TX '], ['krf from Bellevue, WA '], ['seanrandall from Atlanta, GA '], ['jrnalls from Richton Park, IL '], ['nicolewatkins from Halifax, Canada '], ['c8ier1 from New Braunfels, TX '], ['renofoodie from Reno NV '], ['Mneoctober from DC '], ['Akimbo from VVViV '], ['elwood from Kansas City, MO '], ['a_putterer from MA '], ['gdberkley '], ['grammyles from Vancouver, BC '], ['charlottebell from Austin, TX '], ['anyccook '], ['blondoverblue from Sacramento, CA '], ['angiedavid from Los Angeles, CA '], ['cjdrisc from Jacksonville FL '], ['nancydea from Melbourne, FL '], ['Vicki6 from Washington, DC '], ['marilynburrows from Laguna Niguel, CA '], ['kristywalker '], ['melbrooke '], ['pdxgourmet from Portland '], ['toskalynn1 from Sarasota, FL '], ['lfox18 from Ballston Lake, NY '], ['hairbrain from Montrose, CO '], ['lschmidt from Portland, OR '], ['tgbcooks '], ['graceross from OtaOttawa '], ['dmatale from New York, NY '], ['mariemichellevu from Vietnam '], ['sgkritz from California  '], ['lissa_b from Norfolk, Massachusetts '], ['thar from San Francisco, CA '], ['jeneric1507 from NJ '], ['stu210 from Denver, CO '], ['cindyboyett from Goochland, VA '], ['mksweh from Rye, NY '], ['polkadotbats from Cincinnati, OH '], ['anitamarcoff from Oregon '], ['spud17 from Lexington, KY '], ['Ambrozia911 from Dallas, TX '], ['schatzca from Boston '], ['Lynnied from Portola Valley, CA '], ['julieacook from Ontario, Canada '], ['perryUMD '], ['cairna from Portland ME '], ['wilthree from FLA '], ['A Cook from Monterey Hills, CA '], ['HilaryAgin '], ['lesliemari from Ottawa, ON '], ['rcallner from Olympia, WA '], ['A Cook from NJ '], ['bobiw from Livermore, CA '], ['alisonharrod1410 from Canada '], ['marylainel from Montreal '], ['cosoriog from On, Canada '], ['smallbluebird from SF Bay Area  '], ['enpeco2 from New Orleans, LA '], ['smiles1940 from Alexandria, VA '], ['jcarlile from Truckee, CA '], ['jfkatz from Pretoria, South Africa  '], ['augustin from Seattle WA '], ['beachcats from Santa Monica, CA '], ['judyldaniel from San Francisco, CA '], ['foodiemmk from Greensboro, NC '], ['Anna D from San Diego, CA '], ['alenarz from Minneapolis, MN '], ['dallasnash from Botswana '], ['bas614 from Boston '], ['kerryduffie from Denver '], ['Kimpro101 from Texas '], ['deannaip from Austin, TX '], ['bearmayor '], ['lglevin from San Diego, CA '], ['kelik0991 from Denver, Co  '], ['straker from Atlanta, GA  '], ['tgbcooks from FFarF '], ['shellhahn from Bloomington, IN '], ['blauj from Sask., Canada '], ['magdalen20 from San Diego VCCA '], ['sjhergenrader from Zurich, Switzerland '], ['JMurov from Pleasant Hill, CA '], ['pattidd from Boston MA '], ['lora_lu from Denver, CO '], ['tbell023 from San Diego '], ['rlykins from Sydney, Australia '], ['lauradesai from Washington, DC '], ['stephaniebeckner from Germany '], ['railim from BC, Canada '], ['bearmayor from Kanada '], ['themarten from Salt Lake City '], ['zoeycooks from Boston, MA  '], ['enietupski57021 from Boston, MA '], ['wigdowt from Asheville, NC '], ['malinsky from Calgary, Canada '], ['kklabracke from Oconomowoc, WI '], ['GreenJourney from Chicago '], ['mmmbaker from Colorado '], ['laura_b_mv from Mountain View, CA '], ['jansan1 from Orange County, CA. '], ['jsacco from Boston, MA '], ['lornakb from Monterey,CA '], ['Bestdogsmom from Chicago '], ['Lrosas from Walnut, CA '], ['cavygirl1 from Connecticut '], ['funpuff from DC '], ['markheimann from palm beach, fl '], ['sawrey from gearhart, oregon '], ['pamthecook from dallas, tx '], ['aquamerine from Ny,NY '], ['John from fort worth, tx '], ['mashabedda from SD, CA '], ['A Cook from Chicago '], ['cheesepuff '], ['wornoutballetshoes '], ['denstob '], ['heathersb9 from Washington DC '], ['A Cook from New York, NY '], ['mpcbear from Southern NJ '], ['A Cook from Minneapolis '], ['Nicole_Bklyn from Brooklyn, NY '], ['A Cook from McKinney, TX '], ['A Cook from Lowell, MA '], ['A Cook from Cambridge, MA '], ['the connasewer from Hilo HI '], ['zuker from Hot Springs Village, Arkansas '], ['foodlover1948 from Brisbane, Australia '], ['gfsi from Vancouver, Canada '], ['Sharonh '], ['jerirecipes from TX '], ['ekmitchell2 from Long Beach, CA '], ['tuva '], ['bobsmanor from Los Altos '], ['aguzada505 from El Paso, TX '], ['mlamo from Squamish '], ['asnmklgirl7935 from Portland, OR '], ['heathernyc '], ['leek from Seattle '], ['cook from mesa from Mesa, AZ '], ['gwynnek from DC '], ['flagg '], ['delaniepope from Grand Rapids '], ['bikap '], ['blwyxx4163 from Salt Lake City, UT '], ['blwyxx4163 from Durango, CO '], ['scrooge_fan from Machesney Park, IL '], ['charface from Portland, OR '], ['kmender1 from NY, NY '], ['ginapos from Philly '], ['kjbbmommy from Attleboro, MA '], ['delaniepope from Michigan '], ['catdellinger from North Danville, Vermont '], ['jenpost1556 from Stoughton, WI  '], ['lkaaha from San Jose, CA '], ['rachtherose from Los Angeles '], ['dsarosik1 from Lake Tahoe '], ['dawntreader3731425 from Los Angeles, CA '], ['jerirecipes from North Myrtle Beach, SC '], ['asholady from New Orleans, LA '], ['gringaroja from Boston '], ['jd_rinde from Huntington Beach, CA '], ['bratkowk from Austin, TX '], ['sarge1 from Alexandria, VA '], ['margiejo from Los Angeles '], ['ksakuma from Oakland, CA '], ['abbypuppy1 from Redington Beach, Fl '], ['jawmems from New Jersey '], ['Glassman6  from Akron, NY '], ['tracych from Clearwater, fl '], ['jameswilber '], ['maxtimm from Chicago '], ['pearldiver from Seattle '], ['Jeanne2020 from Turnersville, NJ '], ['sharonburkhar from Marietta, Ga '], ['amarris_sky from Connecticut '], ['barefootmelanie  from Atlanta, GA '], ['kdante from Chicago, IL '], ['jbbobbitt '], ['sbnelson from kansas city '], ['lizb22 from Watertown, MA '], ['Assos from Louisville, KY '], ['Great_Lakes_Cook from Portland, MI '], ['Lexy1 from México '], ['pwrubarb from Napa Valley, CA '], ['Lydia122 '], ['Munacil from Shorewood, WI '], ['kritzow from Appleton, WI '], ['KSSir from Storrs, Ct '], ['dnals from palo alto, ca '], ['vicki_s from boston,ma '], ['A Cook from Waco, TX '], ['robboo from Syr ny '], ['bellabug '], ['moorloughmary from Edmonton, Alberta '], ['yvoloshin from Brooklyn, ny '], ['rnicolls from Calgary '], ['morganmk from Augusta, GA '], ['christinesuchor7153 from Boulder '], ['mvjimo from Vineyard Haven, MA '], ['treeapril2014 from the earth '], ['lovestoputter '], ['jc1920ra from Green Valley, AZ '], ['janmurray from Orlando, FL '], ['RWeaver59 from Boston, MA '], ['kizzybelle from Ontario '], ['Primanna from Buffalo, NY '], ['svensvnset '], ['Fotaku '], ['sakillets from texas '], ['loriltx from Houston '], ['tmanton from NJ '], ['ir_fou from San Diego, CA '], ['phoghat from Mexico '], ['lizzytish2 '], ['veggietress from Longbeach California '], ['A Cook from Germany '], ['juliefrawle '], ['jdaisymia '], ['ncm209 '], ['cheching from Toronto, ON '], ['jjansen from Babauni BC '], ['joseegunville from Ottawa, On, Canada '], ['stellab7 from Denver, CO '], ['kboston from Boston, MA '], ['lmanderson from Maryland '], ['inesbaum '], ['A Cook from Seattle, WA '], ['Cook_in_the_Ham '], ['Prncsgbug from Seattle, WA '], ['neiljg from Maine '], ['rimbaud from San Francisco '], ['epi_test_165 '], ['foodpilot56 from Houston '], ['nml211 from Portland, OR '], ['cdibella from Toronto, Ontario '], ['Mascoma '], ['accmplce from Oshawa, ON '], ['cdelouise from Bethany, CT '], ['jrdhassell from Washington, DC '], ['CastIronCook from Boston, MA '], ['cookndc '], ['pghgrl from brooklyn, ny '], ['greengabble from Vancouver, BC '], ['francoiscat from Seattle, WA '], ['elroyjetson from San Francisco, CA '], ['meliherman from Berlin, Germany '], ['jdaisymia from Az '], ['kids2cuisine from Winnipeg, Manitoba Canada '], ['terrijudge from Washington, DC '], ['laurenhabiba from expat '], ['vtgrammy from killington,vt '], ['cjadewi from Boston,ma '], ['marciaznelson from Chicago area '], ['viking_kitten from Boston area '], ['jraderj from NYC, NY '], ['jraderj from NYC '], ['Ellie_B from Brookline, MA '], ['lulabell67 from Rochester, NY '], ['jeanburton2 from Albany, NY '], ['sgawith1 from Johannesburg '], ['lei739 from Nor Cal '], ['janekathryn from San Francisco  '], ['layla1008 from Brick NJ '], ['MeCookFood from Blacksburg, VA '], ['cookbooker from Boston, MA '], ['robyn386 from Austin, TX '], ['kgerwin from Brooklyn, NY '], ['firesprite from Oakland, CA '], ['michael211 from Boston, MA '], ['jeneaby from Alpharetta, Ga '], ['lisa_anna from New York '], ['haute.house@icloud.com from Paris France '], ['kayeshari '], ['theresa54 from San francisco '], ['rvj711 from NoVA (Northern VA) from Manila, Philippines '], ['lisadorenwendt from Wilmette, IL '], ['lrn7 from Toronto, Ontario  '], ['yam_yam from San Francisco, CA '], ['hikeybikey from Scottsdale, AZ '], ['jenpost1556 from Stoughton wi  '], ['kellyn301 from Washington, DC '], ['sbdelisle '], ['jessicaangellsmith from Yarmouth, Me '], ['lisakat from Austin, TX '], ['ithrowitontheground from San Francisco '], ['megelise from Dallas, TX '], ['clararaa from Colorado '], ['calistam from Seattle '], ['benedetto from NYC '], ['brushjl from solon, ohio '], ['savorygoodness from Cartersville USA '], ['jellis14 from Arlington, MA '], ['mostlymeg '], ['johnclementwats from Middletown, CT '], ['scunningham from White plains ny '], ['sarahnicole529 from Austin, TX '], ['ginaliening from seattle '], ['jansan1 '], ['sbpoll from Houston '], ['tamlrose from Michigan '], ['ehauber from Taos NM '], ['rsnoda from San Francisco Bay Area  '], ['kerryl_530 from Random Lake, WI '], ['katclark from Laguna Niguel, CA '], ['kathleenacampbell '], ['ksolyntjes from Wisconsin  '], ['gkoenig from Tahoe '], ['kwkennedy from Denver, CO '], ['wheedle from Manhattan '], ['amymg97 from Sparks,NV '], ['shayneelizabeth from Auburn Ca '], ['boydjr1 from Ann Arbor, MI '], ['sunnylildaffodil from Colorado Springs, CO '], ['anouschkawardy '], ['sminkoff '], ['jl1 from San Francisco '], ['amylh from New Hampshire '], ['susiesunshine from Fairbanks, Alaska '], ['jacquie7 from Carlsbad, CA '], ['brireb1 from Wayne, PA '], ['CZimons from Clarksville, TN '], ['wendycatherine from Houston  '], ['shale3 from Wilsonville, OR '], ['rich_conley from Boston, MA '], ['cookie44 from Northern Virginia '], ['carrphillips from Lake Oswego, OR '], ['mlmerlotti from St. Louis, MO '], ['slhughes2 from Santa Barbara, CA '], ['pauliwally '], ['vwag from Boston '], ['laurentsmi '], ['iambenjago from Washington, DC '], ['ellen23 from Long Island, NY '], ['demarcate from Brooklyn, NY '], ['kathiet from Cincinnati, Ohio '], ['hp '], ['sullivan0830 from Philadelphia, PA '], ['srtracey from Los Angeles, CA '], ['kimlef from Ga '], ['knitbeast from new york city '], ['janetvassar from Los Altos, CA '], ['katherine_poythre from Medford, OR '], ['ka5 from Medford, OR '], ['kpsoundadvice '], ['wannabecook79 '], ['websherpa.ca8425 from Burlington, ON '], ['PowPow from BC Canada '], ['katjones.studio3370 from Vallejo, CA '], ['susanmw from Baltimore, MD '], ['jenpost1556 from Stoughton, wi '], ['tukats from Santa Barbara, Ca '], ['Ama1 from texas '], ['lwmjky from San Francisco '], ['lchei from Cincinnati, OH '], ['austin1712 from Bay Area, CA '], ['lincolnpines from Tampa, Florida '], ['happycamper223 from Portland, OR '], ['Johnmdjr from Phoenix, AZ '], ['osterstock from Ladera Ranch, CA '], ['1mustang from Costa Mesa, CA '], ['steveack from Saratoga Springs, NY.  '], ['robboo from Ny '], ['ellen80 from Point Roberts, WA '], ['mamabaer from Pittsburgh '], ['pahastings from Charlottesville, VA '], ['pcbkatt from Panama City beach, Fl '], ['lmckee from Washington, DC '], ['anromans from Providence, RI '], ['yoshihaga22 from Laguna Beach, Ca.  '], ['cuisincuisine from St Paul MN '], ['jams3 from  Northern New Jersey '], ['tjolish from San Francisco, CA '], ['christine4196 '], ['compostra from Northern California '], ['spfychik84 from Groton, CT '], ['laurenh19 from Tacoma, WA '], ['bugthecat from Ottawa '], ['mmicale from Brooklyn, NY '], ['bustersqueak from Calgary, Alberta '], ['greenjourney from Chicago '], ['richard_frizell from Gabriola, BC, Canada '], ['elschneider from Nashville '], ['portlanderic from Portland, OR '], ['kimberleyt from Victoria, BC Canada '], ['coudremode from Boston, MA '], ['leigh.c.batten2216 from Texas '], ['mbpalladino4458 from Rockport, MA '], ['JamGann from Boston, MA '], ['meganohanlon from DC '], ['avmet from Philadelphia, PA '], ['gsam26 from Bama '], ['shortr from Goshen IN '], ['jmurov '], ['elliot1 '], ['trackertart from Qualicum Beach, BC '], ['whatswrong9 from Los Angeles, Ca '], ['DLindner from San Clemente, CA '], ['marisa_menz from Cresskill, NJ '], ['kmoss50 from Charleston, SC '], ['hannahmattina from MI '], ['dwhite417 from Seattle, WA '], ['anne1234 from Portland, OR '], ['CarolVach from Burlington, MA '], ['mwaaka from Zambia, but live in Denmark. '], ['slhughes2 from Santa Barbara '], ['lblasdel from Boise '], ['jmmee '], ['dcturchin from Toronto, Canada '], ['joseegunville from Ottawa, Ontario '], ['chloethepoodle from Los Angeles, Ca '], ['jenacass from Dallas '], ['nick_wahl1 from Minneapolis, MN '], ['caponte from Chicago '], ['bcaldwell441 from Seattle, WA '], ['scunningham from White plains  '], ['dreb from San Francisco, cA '], ['feedmysoul from Toronto, Ontario  '], ['sylviazunda from Northport, NY '], ['lkrummrich1 from Belleville Il '], ['wandavb '], ['Horusbedhetys from San Diego, by way of Chicago '], ['A Cook from Phoenix '], ['A Cook from Denver '], ['tomese from Louisville, KY '], ['thebards from Palo Alto '], ['pymv from New Jersey '], ['vstar from Bellingham, WA '], ['pfrank from New York, NY '], ['elberko from PA '], ['scalardt from Kansas City '], ['graceross from Ottawa '], ['potterzino from Saugatuck, MI '], ['casper1 from Chicago '], ['eworldcooking from India '], ['diagonza from Mexico City '], ['LizGy from London '], ['delooper from Durham, NC '], ['carolbb from Highland Park, NJ '], ['taylorjay from New York '], ['mattx33 from Boise  ID '], ['eli6223 from Minneapolis, mn '], ['ronasjc8500 from Pawtucket, Rhode Island '], ['LiamGriffith from Colorado Springs '], ['itam from Colorado '], ['tejaspenguin from San Antonio, TX '], ['ameliajayne from Ann arbor, MI '], ['vae9106 from TucsTTon,  '], ['xineqoc from Seattle, WA '], ['hannahmattina from michigan '], ['stoerme from Dayton, OH '], ['ilona1 from Holon '], ['aladair from Ossining, NY '], ['merriebeth from New Orleans  '], ['morganmk from Georgia '], ['eguettler from Minneapolis '], ['azzief1 from Los Angeles  '], ['ilyssa2 from NYC '], ['CatHoward from YORKSHIRE UK '], ['doreenz from Sooke BC '], ['nichomachean from Dallas, Texas '], ['hurricanejl from Miami Beach, FL '], ['hashiparmentier from PORTLAND OREGON '], ['Adpg74 from San Ramon, CA '], ['magdalen20 from San Diego CA '], ['onestitch from Falls Church, VA '], ['alorenstei from Somerville, MA '], ['sylkken from Canada '], ['marissavivo '], ['BDCJK4 from Cambridge, UK '], ['creativecooker from NY '], ['tnbks from torontotoToronto catoro '], ['stephaniezenobia from Denver  '], ['mahu6 from Maine'], ['lindakessler from Florida '], ['azzief1 '], ['ljg4 from NYC '], ['cindyross from Orange County, CA '], ['hozro932314 from Jersey Shore '], ['pfsiami from Persia '], ['derekjbe from Toronto '], ['samanteria '], ['clairehassid from Forest Hills, NY '], ['jsto from Toronto, ON '], ['erika827 '], ['bunnyb1970 from Montreal  '], ['Jerryv from Chicago IL '], ['karditi from NY '], ['sjsymonds from Herndon, VA '], ['Joanzehenderson  from Santa Fe NM '], ['jackhb from Baltimore, MD '], ['kariejohn from San Diego, CA '], ['Makbholloway from Baltimore '], ['alsado9988 from Federal Way Wa '], ['nevarchef from Austin, TX '], ['kenpimentel3 from rockville, md '], ['rieweeg from Sacramento, CA '], ['cameron_hold from Springfield, MA '], ['lchasson from Milan, Italy '], ['ash74 from Beirut '], ['smokeoutque from Richmond, VA '], ['vgheebee from San Diego, CA '], ['jbparsons from Indiana '], ['lynda22 from Bristish Columbia  '], ['KMD_Chicago from Chicago, IL  '], ['human1 '], ['lisathe2boysmom from jenkintown pa '], ['newyorknewyork75 from NYC '], ['ivanier from auckland, new zealand '], ['mbeachl from Cathedral City, CA. USA. '], ['ivanier from auckland, new zealand  '], ['a_c_stockwe '], ['thaitrav2233 from MA '], ['hmbaldwin '], ['scarlett9 from Newnham UK '], ['michelleb1209 from NJ '], ['sjminkoff from Richmond, VA '], ['smiles1s940 from Alexandria, VA '], ['denisecasto4609 from Reston, VA '], ['rogerw05465 from Culpeper, VA '], ['meximoe from Bayville NJ '], ['elliottb8198104 from Philadelphia, PA '], ['judylane1 from Virginia '], ['rockchick from Poughkeepsie, NY '], ['juche6 from NYC '], ['shannon11red from Levittown PA '], ['piarmg from Mississauga, ON '], ['jeanne_whyn from Somerville, ma '], ['arl8058 from Philadelphia, PA '], ['donna_levy from Buffalo, NY '], ['catsuite from Brooklyn, NY '], ['gtargoff from Lincoln, NE '], ['repat91 from CA '], ['nowwerecookingmary from New Haven, CT '], ['alisonhartlbx from Albany, NY '], ['martinis2nite from St Petersburg, FL '], ['suzglass from Birmingham, AL '], ['plgraham from southern ontario '], ['eandcinthekitchen '], ['LizaOlson91 from Los Angeles '], ['cincisusan from Cincinnati '], ['trirod01 from Toledo, Ohio  '], ['SusanChicago from Lakeside, Michigan '], ['jroberts1957 from Sequim,Wa '], ['kararabago '], ['mika53 from Caux-et-Sauzens France '], ['moneyles from boston, ma  '], ['cann.melanie9423 '], ['sjyung from Greenwich, CT '], ['LPiesel from Falls Church, VA '], ['questrist '], ['michaelwryan19573965 from Provo,UT '], ['bennette from Waretown, NJ '], ['ophy '], ['Sue99 from Ottawa, Canada '], ['kbidstrup from San Francisco, CA '], ['A Cook from LA, CA '], ['katiehogan from Binghamton, NY '], ['Yelowbunnie from Chicago, IL '], ['akalish from New York, NY '], ['ontanedamarisol from Washington '], ['lexschmidt from philadelphia, pa '], ['jlp879 from SF, CA '], ['Shirleywong814 from New York  '], ['jaloc '], ['karenfar from Huntington Beach, cA '], ['winewiz from mt. prospect '], ['waitz from Chicago '], ['cggerard from Salt SSalt  '], ['dbpearl from Long Beach, CA '], ['gmga from Chicago '], ['greengirlkb '], ['ltmsix from Allentown, PA '], ['lesliebmore from Baltimore, MD '], ['allchy from Toronto, Canada '], ['jenfridley from Saint Louis, MO '], ['lderemita from Mount Lebanon PA '], ['zellycat from Brooklyn '], ['ditto from Portland Oregon '], ['A Cook from Portland Oregon '], ['shrushanti from Eagan, MN '], ['tracypie5 from San Francisco, CA '], ['A Cook from Agoura Hills, CA '], ['simmle from Birmingham, AL '], ['CookEm from Boston, Ma '], ['dds1981 from Washington, DC '], ['Abears2010 from Destin '], ['toodles107 from Phoenix,AZ '], ['tastygoodies from new orleans, la '], ['redsesame '], ['A Cook from San Francisco Bay Area '], ['sashamol from Tucson, AZ '], ['Tjaderjosh from Michigan '], ['A Cook from chicago, il '], ['kathrynamyconn from Northern NY '], ['bretonne from France '], ['jceverett from Arlington '], ['jchristiansumn from Brooklyn '], ['dlg6187 from Lancaster PA  '], ['Vegginin from Sweden '], ['lecknox from San Francisco Bay Area '], ['cookbooker from San Francisco, CA '], ['mbolster from Concord, MA '], ['pipercooks from Longmont, CO '], ['kncookspnw from Seattle '], ['denni31 from San Diego, CA '], ['maggieeates '], ['jeanmcramer from chicago '], ['dejda from Miami, FL '], ['JackyP '], ['yenta from 11354 '], ['sitagaki '], ['grazianolinda from Greenville, SC '], ['kikisquid from Napa, CA '], ['502forestdrive4876 from Washington DC '], ['cookninberkeley '], ['camster6 from Nanaimo, BC '], ['eeeshe706 from Florida '], ['judekazmaier from Dallas, TX '], ['nancybs from Scranton, PA '], ['cathreno from New York, NY '], ['pegemo from Ca wine country '], ['carriewhittier from Penngrove, CA '], ['JLott1 from From SC '], ['bil from Augusta, GA '], ['lindamaier from New Rochelle, NY '], ['debbiekeithmiller from Leeds, Al '], ['cdmarko from Texas '], ['ealmanza from Austin, TX '], ['zelda4epic from Florida '], ['maxglider723 from Pittsburgh, PA '], ['allisonlim from Singapore '], ['philipmybeer from Magrathea '], ['suzwil from AZ '], ['pierceconway from Natick '], ['ssawyer3 from Northern California '], ['choirgirl116 from Montreal, QCMoMontreal, QCMontreal '], ['sattesb from Charleston, WV '], ['GWstables from Ocala, FL '], ['cellardweller from Chatham, NJ '], ['edseeger from Harker Heights, TX '], ['a_pinch_of_salt from San Francisco '], ['jcfrecipes from Pittsburgh '], ['gargantujuan from Vancouver, WA '], ['salimad1 from New York, NY '], ['erkroner from Asheville, NC '], ['sdemaree from Californian living in London '], ['creativemisso3053 from Louisiana '], ['allimarx from New York '], ['mldesm from andover '], ['heatherjenkins from Edmonton, AB '], ['jebrwnng from Michigan '], ['joe_sevier2086 from Brooklyn, NY '], ['kpalmer747 from Sweden '], ['mldesm from andover ma '], ['Psycleridr from Northern NJ '], ['chrisgelica from California  '], ['robin_shanz from New York, NY '], ['happymama37 from Newton MA '], ['fyryr from Fernley, NV '], ['tegger57 from Hanover, NH '], ['davisella from Canada '], ['mickeyl '], ['danipach from New York '], ['dzma from Queens, NY '], ['kwildau from france '], ['agentmorgan from santa cruz, ca '], ['rstarner3877 from Columbia, SC '], ['mirandacaroligne from Southern Oregon '], ['aporatelli from Buenos Aires, Argentina '], ['tdowens3 from Seattle, WA '], ['jlelliott from Madison, WI '], ['morganmk '], ['sandragee from Boston '], ['ccstephanie from Boston, MA '], ['ccstephanie from Cape Cod '], ['robinsmillie from Toronto '], ['kbbradford from North Alabama '], ['s21melly from Toronto '], ['Maryloucookie from Long Beach, CA '], ['mllnmchine from NYC '], ['AbigaelSarah '], ['foureyes137 from Minneapolis, MN '], ['nkjenkins4316 '], ['AbigaelSarah from USA '], ['merseb from Chamonix, France '], ['c3lestialwolf '], ['iminthekitchen '], ['kdc412 from Arizona '], ['kjcarbonell from Chicago '], ['stwebshop1 from Arizona '], ['trent880 from Denver, CO '], ['eezah '], ['a.l.p.roland9804 from Zumbrota, MN '], ['loyd7220 from Austin, TX '], ['callie.maidhof6477 from Richmond, Indiana '], ['ranibatra from Oakland, CAX '], ['juliannesombat4630 from ohio '], ['eviey2002 from Los Angeles, CA '], ['anned1 from Pisa '], ['jamesblake from Chicago, IL '], ['jvh020 from Amsterdam, The Netherlands '], ['glam72 from Oakland, CA '], ['kayceerb from Philly suburbs '], ['wienbar from San Francisco '], ['psherburne from Menorca, Spain '], ['stephaniefoerst from Fort Worth, Texas '], ['NANCYEPHILLIPS from sDallas '], ['LuciaW from San Francisco, CA '], ['droehler from Chicago '], ['hrpowe from Calgary, AB '], ['kahlan from St. Louis, MO '], ['la_carr from Florida '], ['mmb44 '], ['etracye from Madrid Spain '], ['texasex from Fairfax, Va '], ['keritilman from Newport, RI '], ['Maddie Hj from Cape Cod, MA '], ['jasmine00 from Santa Rosa, CA '], ['kek2char5134 from Ohio '], ['mrsmasterchief from Islamorada, FL '], ['srmski from Mound, MN '], ['betsyannie1970 from Richmond, VA '], ['ditw from Islamorada, FL '], ['gbsk12 from Alaska '], ['jfbmd from Colorado '], ['kitchensal701 from MI '], ['elissa_anderss from Chicago  '], ['raneylorene from Bergamo,Italy '], ['alaskabasin from St Louis, MO '], ['avery_ka from Michigan  '], ['NightowlKnitter from Maryland '], ['leenieloo from Mundelein,IL '], ['forkknifespoon from Cambridge, MA '], ['alldayie from los angeles,ca '], ['gguard from Indianapolis '], ['frannyk from Philadelphia, PA '], ['segyyz from Toronto '], ['lnitsa from brussels, belgium '], ['semidecentcook from Pittsburgh, PA '], ['suzespe from Treasure Island, FL '], ['skreynolds from Portland, OR '], ['rlstone24 '], ['joeln from Lexington, MA '], ['lmkrum from Stevensville, MT '], ['dmull '], ['Dilorenj1 '], ['AJOT '], ['pdzpdz from Southern New Jersey '], ['Missy821 from Chicago, IL '], ['orivia from los angeles '], ['MPortera from Des Plaines, IL '], ['A Cook from Lexington, KY '], ['tiffanyrooprai from Gladstone, OR '], ['A Cook from New York '], ['bostonbean from Boston '], ['jklawrence from Virginia '], ['orivia from east los '], ['bertie57 '], ['kerrlm from Macomb, Il '], ['tastysausagerecipe '], ['andy02124 '], ['knblue1 from atlanta, ga '], ['mandamoose from Canaan, NY '], ['charlottester from Fredericksburg, Virginia '], ['shannonfitzgerald751032 from San Francisco, CA '], ['klkienast from ND '], ['s_minnemeyer9713 from Washington, DC '], ['gconzatti from Vancouver '], ['kathiwojo from Monterey CA '], ['schoen from Minnesota '], ['pennsan from Toronto, ON '], ['mattduckor '], ['robbienette from Los Angeles, CA '], ['chipndip from Los Angeles '], ['tochefs from Toronto, ON '], ['HankyPanky from Lake Bluff, IL '], ['dontodip from Narberth, PA '], ['tanos from KC, MO '], ['gillyflower from St. Girons, France '], ['susan1228 from Washington, DC '], ['owhen4 from NorCal '], ['buttercream '], ['whatmarshaeats from USA '], ['sdbond from The Great State of North Carolina '], ['debra_brown_811 from Seattle, WA '], ['jannaadgal from Minneapolis, MN '], ['SandraJG from Snohomish WA '], ['icewineanne from Toronto, ON '], ['foodfiend20 from Lewes, DE '], ['orourke2 from Boston, MA '], ['radskierd from Fairfax Va '], ['crumbandsugar from South Salt Lake '], ['cynicalanddisgusted from Nevada '], ['uschwuttke from Central Florida '], ['erkuchera from Minneapolis, MN '], ['missadriel from Seattle, WA '], ['chrisandnathalie '], ['megan_hilga from Portland, OR '], ['mairzi from Holyoke, MA '], ['efgs from southern Ontario '], ['m_bawn from Newmarket, ON '], ['gstallings from Denver, CO '], ['RosaR56 from Rockford, Illinois  '], ['sschechtel from Washington, DC '], ['jantomas from Texas '], ['eljoy from Carlsbad, CA '], ['glitterygarden from Baltimore, MD '], ['feebs22 from Boise, ID '], ['frantastic13 from Near Pittsburgh '], ['bevoxv from Pearland, TX '], ['bbpearson '], ['dmhconsulting from Tallahassee, FL '], ['scarey322597 from Minneapolis '], ['epdietz '], ['samabarnes '], ['redhomer from Canada '], ['plyshaw from Ashburn, Va. '], ['ljassim from Santa Monica, CASanta Monica, CASAnta '], ['heatherNYC '], ['grantcarruthers from St Louis  '], ['kb1950 from Vancouver, Canada '], ['kdavidge from San Francisco, CA '], ['blackrabbit from New Mexico, USA '], ['Sgla from Houston  '], ['raikawolf from Santa Cruz, CA '], ['hoeveler from Portland, OR '], ['officerbill from Upstate NY '], ['nellybird from Minneapolis, MN '], ['janex '], ['notre_chef_du_menage from Seattle, WA '], ['rayreinhard from Santa Cruz, CA '], ['nunzie52 from NYC '], ['jlcollins1045 from Illinois '], ['mertracy2348 from Baltimore, MD '], ['pieceful2249 from Massachusetts  '], ['barbarawipf from Cohasset, MA '], ['taranelson from Oakland, CA '], ['callyg from Manchester, NH '], ['trueirv from Barrie, ON '], ['bonrob from Hernando, FL '], ['BriarBertoch '], ['andy_andersen from Hamilton ON '], ['smauters '], ['bwaldo from Birmingham, AL '], ['kpfromchicago from Wilmette, IL  '], ['kimtn from Lake Tahoe, CA '], ['mainers '], ['suaustin from Santa Barbara, CA '], ['bparle from Montauk, NY '], ['saraware from Chicago, Il '], ['staceye121 from Boston, MA '], ['boyle0 from St. Paul '], ['karo_li from Netherlands '], ['tscherba from Ontario, Canada '], ['ditto '], ['Annette58 from Brewster, MA  '], ['freefield from Grass Valley, CA '], ['lynnev from Los Angeles, CA '], ['katrin04 from Colombia '], ['egarson1 from San Diego, CA '], ['mkopke from Toronto '], ['reiner '], ['M. Rani from St. Louis, MO '], ['c_az from New York, NY '], ['ayaworski from Ottawa, ON '], ['kburke1 from Madison, WI '], ['ljnese '], ['57mott from New York City '], ['terrilnell from North Carolina '], ['mcash4 from New Jersey '], ['jdengler from Haddon Township '], ['lthornton from Southington, CT '], ['tobocrs from Central AZ '], ['angelambloch from Irving, TX '], ['sandywomble from winter park fl '], ['SaintQuinn from Brooklyn, NY '], ['HannahBenoit from Boston '], ['franksanpietro from Memphis, TN '], ['traveltoots from Traverse City, MI '], ['rowan_lynne from Kerrville, Texas '], ['barletto from Seattle, WA '], ['lizberg from Vancouver, WA '], ['schwinnhund5760 from Chatsworth, Ga.  USA '], ['bodhi22 from New York, New York '], ['p_pault from Tallahassee, FL  '], ['kapinkkidowski '], ['Mrclwr from Miramar, FL '], ['aallen from Grand Teton National Park '], ['MikeBob22 from San Ramon, CA '], ['waunderful7696 from Michigan '], ['karijo from New York '], ['lstein from Swarthmore '], ['cschmidt1120 from Phoenix '], ['sherriedrington5565 from Dallas, TX '], ['jbenstead from Chicago, IL '], ['jansan1 from Orange County, CA '], ['cecilyb from Flagstaff, AZ '], ['p_w_tiern from Chicago, IL '], ['mary_vonderhey from St. Louis, MO '], ['foodienats from Tucson, AZ '], ['MeganMarissa from New York '], ['baileyanddaisey from Castaic, CA '], ['tsher from Chicao '], ['ilona212 from Arizona '], ['ilona212 from Arizona  '], ['jdale922 from Norwalk, Ct '], ['houtom from Houston, TX '], ['annnolan553202 from Victoria, BC '], ['samanteria from Oregon  '], ['Catosixtails from New Mexico '], ['hoosfoos from La Mesa, CA.  '], ['jennyjp1 from Chicago, IL  '], ['beebo1953 from Cathedral City, CA '], ['Fanny69 from Tucson AZ '], ['mmmmmonica from Vancouver '], ['malcolmxxx86 from Oakland, CA '], ['skeetdiggy from North Carolina  '], ['blessthybre from Shawnee, OK '], ['donested from Stony Brook NY '], ['marlysws from Phoenix, AZ '], ['leenieloo from Mundelein, IL '], ['reischer from Boston, MA '], ['kathiebriggs '], ['thompsonae from PA '], ['azzief1 from Los Angeles '], ['raynfigi from Southampton NY.  '], ['guytonkristi '], ['dpastor from New York '], ['mcontrado1 from Newburyport, MA '], ['ercwjm from CT '], ['humead '], ['desonie from Phoenix, AZ '], ['kathkat from N. California '], ['MissRachelPaige from Minneapolis, MN '], ['Camillka from Oregon '], ['pixienoelle from Pennsylvania '], ['lwhellams from Calgary, Alberta, Canada '], ['shoelover1 from Florida '], ['chasepdt from Livingston  '], ['lkelso from Kailua, HI '], ['acfisch from Cincinnati, OH '], ['pdxgourmet from Portland, OR '], ['gaelnyc from NYNNYNY '], ['keriche from Washington  '], ['jumpinjj '], ['bridgetc1 from Louisiana '], ['estela64 from San Diego  '], ['KristieLynn623 from Western New York '], ['bbit from Boston, ma '], ['kitchenlove from Ontario '], ['mtulett from Victoria, BC '], ['tucksings from Bakersville NC '], ['sheri2 from New Jersey  '], ['lnhalverson from Seattle, WA '], ['meghaneandrews from Greater Boston,  MA '], ['mags425 from Colorado '], ['jerirecipes from SC '], ['rahappygirl from League City, TX '], ['ps826@att.net from Texas via New Jersey '], ['ps826@att.net from San Antonio, TX '], ['riverniles from Dallas, TX '], ['RPVeg from Kenya '], ['Ash&Midge '], ['golobolbol '], ['andreaneronero from Albany, NY '], ['lambr from Connecticut  '], ['jbully0 from Aurora '], ['rudolphprather from San Diego '], ['milehighmunchies from Denver '], ['RegTerry from Oak park, IL '], ['mselliott from Natick,MA '], ['vukobratic from Ontario '], ['phyllis1_ from Louisiana '], ['mulch from Alabama '], ['jujuloafer from Lynn, MA '], ['elntru '], ['artries1238 from Phoenix azZAZoePhoenixnix az '], ['emancha from Montclair, CA '], ['jng from USA '], ['hugglesbe from MMahwah, nj '], ['ktkell from Lincoln, NE '], ['ncm209 from Boston, MA '], ['nellybird from Minneapolis, MN  '], ['jcrimbaud from NJ '], ['lasharpgomez from Dayton OhioDayton Dayton Ohio '], ['dementad from Seattle, WA '], ['8005 from ATL '], ['zhadu from Mexico '], ['Shully from Vancouver BC '], ['jenbill from Alameda, CA '], ['Suzinsf from San Francisco, CA '], ['sfmitch from San Francisco Bay Area '], ['michellebohigian from Worcester, MA '], ['sgweiss1 from Northern NJ '], ['eileen_duclos from Portland,OR '], ['msanza from Wilmington, NC '], ['starlight99_ from Clarence Center, New York '], ['dbradley3 from Chicago, Illinois '], ['juls14 from Culver City, CA '], ['sdclark from Victoria, BC '], ['elizabeth_boyd5293 from ChciChicago, IL '], ['carnix from GA '], ['lawlbit from Toronto CA '], ['deborahleewoodbury from Cary IL '], ['r124911 from NC '], ['de14031 from Buffalo,ny '], ['de14031 from Buffalo, ny '], ['de14031 from Buffalo, NY '], ['vadeltachi from Washington, DC '], ['grdollar from Sydney '], ['kenneyp from sylvania, oh '], ['xmaskt from Boulder, CO '], ['rayreinhard from California '], ['kbst10 from Joshua Tree '], ['cinnamonlips from Chicago, IL '], ['rebbeca from Highland Beach, FL '], ['gerimosey from Reno, NV '], ['ChefGiGiTra from Illinois '], ['karenlecates from Atlanta, GA '], ['brontebaird from Durango, CO '], ['violaplayer from Poughkeepsie, NY '], ['abby_rand from Brooklyn, NY '], ['annanacho from Chicago, IL '], ['lisamichellek from Seattle, WA  '], ['quesochica from Redwood City '], ['aclouser from New Jersey '], ['susandib from DC '], ['KirstyvonBoch from Westfield, NJ '], ['a2foodie from Ann Arbor, MI '], ['hollisevon from Vero Beach, FL '], ['smcdonaldmd from San Francisco, CA '], ['amanda.bassa1822 from New York, NY '], ['blairef from Boulder, CO '], ['laholladay '], ['oliveoil62 from Olympia, WA '], ['karenfar from Huntington Beach, CA '], ['acetoner from Victoria, BC '], ['janallan from Idaho  '], ['ElaineGloeckle from Boise, Idaho  '], ['schoharie '], ['betteraskjeeves from Ohio '], ['elisabethdw from Los Angeles, CA '], ['pegreinha from St. Augustine, FL '], ['nk47 from NY '], ['deborahck from Milan, Italy '], ['wbouck from San Francisco, CA '], ['malinda from Sharon, Ohio '], ['serena72 from a time when Epi was for cooks '], ['mcreighton_bro from San Antonio '], ['smpaine from Edmonds '], ['mtarragona from Mexico City '], ['RLM06 from Los Angeles '], ['smpaine '], ['neha from Washington DC '], ['RealQuincyJones from Des Moines, Iowa '], ['ronp from Portland, OR '], ['linenkc from Kansas City, MO, USA '], ['chubbybunny63 from The Thousand Islands, NY '], ['lafilusch52 from Canada '], ['ash2lar from Brooklyn, NY '], ['charroa from Virginia '], ['leighfl1 from Brooklyn, NY '], ['rottnk9 from Vancouver, BC '], ['kelleygolich '], ['amcaso from New Jersey '], ['Spellformebaby from Berkeley, CA '], ['sbehrhorst from Bulgaria '], ['danielledittmar from Lakeland, FL '], ['barbny from New York '], ['DHagan from La Porte, IN '], ['zippyo64 from San Francisco, CA '], ['cvarnell from huntington beach, ca '], ['cathywayland from Nashville TN '], ['adupay from Roseville,MN '], ['adupay from Roseville, MN '], ['davidtamarkin from Brooklyn, NY '], ['svchickadee from Washington state '], ['jannaslaughter from CA '], ['ericaca from Manhattan Beach, CA '], ['mrsmunch from CT '], ['knipp_donna from NYC '], ['meekk from California '], ['manhattantart from Manhattan Beach, CA '], ['cindyroche from Los Angeles, CA '], ['speck30 from Richmond, VA '], ['drloverde from Sherman Oaks, CA '], ['kjwitbeck '], ['jessilein from Boulder, CO '], ['iybaron258790 '], ['jessicashebby841 from San Diego, CA  '], ['yummydishes from Rock Hall, MD '], ['B&Gcooking from Victoria, BBC '], ['souricette from Montréal, Québec, Canada  '], ['hlargura from Indiana '], ['lcrespi from New York, NY '], ['Dawn Davenport from New Jersey '], ['lindiboggle from ON '], ['emofly1 '], ['cdooley from Dallas, TX '], ['lauraternan from Edmonton, Alberta, Canada '], ['cookinglamb from Philadelphia, PA '], ['shelliecole from Middleburg, VA '], ['feldmanrb from Palm Desert, CA '], ['mbcb from Drexel Hill, PA '], ['smsvlcooks from Mt. Desert, Maine '], ['marilyn27 from Bergen County NJ '], ['lpbailey826656611 from North Carolina '], ['ginnylmom from Allentown, PA '], ['lprotzer5364 from Louisville, KY '], ['jillianthered from Perth, Australia '], ['sizarah from Berkeley, CA '], ['kpatz from Tucson, AZ '], ['vgibbs from Victoria, BC '], ['tinaindenver from denver '], ['jounce from Seattle, WA '], ['jennyhourihan from Brooklyn, NY '], ['hsq from Norfolk, MA, USA '], ['madjean from Montreal, QC '], ['azmomsy from Bend oregon '], ['salsanosubstrate from Seattle, WA '], ['Tanacitafolia from San Mateo, CA '], ['ssivyer from Bothell, WA '], ['pastagirl624 from Cincinnati, OH '], ['shelleytee from Western Massachusetts '], ['gringaroja from Boston, MA '], ['pjcamp1 from Atlanta '], ['tjabaley from Chicago IL '], ['marygfullerton from Santa Fe, NM '], ['lisaroll from Texas '], ['anonymousbrunette from Maryland '], ['elisabethlaub from Piedmont, CA '], ['marybeth943 from Palo Alto, CA '], ['jandjdu from boston, ma '], ['koavog from Napa, CA '], ['juliavona from Buffalo, NY '], ['cjgivens from Andover, MA '], ['b_kortr from Highland Park, NJ '], ['scarlettbraithwai '], ['gumboboy from Rochester NY '], ['mbingham from London  '], ['simplyseattle '], ['haneye from Seattle, WA '], ['ebluth from Chicago '], ['mdfleetwo '], ['georgiabrown from NYC '], ['jackesler from Toronto, ON '], ['megan_oconnell from Kinsale, Ireland '], ['ireneewright from chicago '], ['rmbarr from Brooklyn '], ['khjaco from Indy '], ['moc29 from CT '], ['sarahlecroy from Asheville  '], ['johnboy112676895 '], ['Heymutha@gmail.com from Newport Beach, CA. '], ['branson1976 from Durham, NC '], ['remicube from Northern California '], ['ilexiou from Edmonds, WA '], ['skrist01 from Ohio '], ['jennkdavis from Bernau, Germany '], ['stephaniebeckner from VA '], ['jennyfeldmanlarocque from New York, NY '], ['mura from BBrB '], ['rainblossom82 from Washington '], ['shaz_cooks from NYC '], ['lleslieanderson from SF Bay Area '], ['scoutandlilah from Boston '], ['laurenw2 from Seattle '], ['olivia_m_weakley from Elizabethton, KY '], ['thompsonae from pittsburgh, pa '], ['lolacohen from Bellevue WA '], ['mertracy2348 from Baltimore,  MD '], ['constarcx '], ['keberle47 from LA '], ['susanpohl3445 from Houston  '], ['KM0108 from New York NY '], ['ecse from Sauk Centre, MN '], ['Britamux from Minneapolis, MN '], ['jhc4631 from Portland, OR '], ['jabgraham4049 from Mississippi '], ['jasminestar552087 from Oakland, CA '], ['miriamg from Los Angeles, CA '], ['sunandsand from Sanibel FL '], ['kevin_cantwell from Brooklyn, NY '], ['jediw from Bay Area '], ['nellerengaw from Rochester NY '], ['lecknox from SF Bay Area '], ['michealmein from Phoenix  '], ['nancyellen90041 from Los Angeles, CA '], ['jshenton from NJ '], ['mel_m from Queens, NY '], ['alicia_beacom from Pittsburgh, PA '], ['wjvine from Salt Spring Island, BC '], ['jeh_paix from SF Bay Area, Calif '], ['j_west '], ['scotti from New Ringgold PA '], ['jennoshea from Allendale, NJ '], ['lemonhead from Pittsburgh, Pa '], ['paweldroz from Chicago '], ['scarey322597 from Msp '], ['cetienne from Calgary '], ['jlh5337 from New Jersey '], ['bmassey from San Francisco,CA '], ['ithrowitontheground from Omaha, NE '], ['114Italianate from Johnstown, NY '], ['theresa0420 from Fleming island, Florida  '], ['gall from Mission Hills, KS '], ['cynmchugh53 from La Mesa, CA '], ['samhanlj from FL '], ['malsie from Baltimore, MD '], ['justin_hughey '], ['rvbaski from Richmond, VA '], ['elsaf from Detroit, MI '], ['jrsebestyen from Boston, MA '], ['vgerin from Kanfen, France '], ['sudsontop from Fernandina Beach, FL '], ['lucille_benez '], ['lucille_benez from Recent transplant from North Salem, NY to Doylestown, PA. '], ['rlraeth from Wisconsin '], ['skchildre from Valparaiso, IN '], ['mberry4911 from Tampa, FL '], ['jerirecipes from NMB, SC '], ['schoharie from Middleburgh, NY '], ['erchefnd from Laguna LLaguna CaliforniaLaguna niguel, CALaguna LlllllCalifornia '], ['slthies from des  '], ['erinkc from Boston, MA '], ['nickyk from A cook from Atlantic Canada  '], ['andresn9 '], ['illnagas '], ['illnagas from ny '], ['kellyh500 from Denver, CO '], ['rforsberg from Carrabassett Valley, ME '], ['moonmooring from Arkansas '], ['kelli_doty from Califonia '], ['rion999 from Livermore, Ca '], ['splashowl '], ['susanp130659 from Ellensburg '], ['birgitlh from Philadelphia, PA '], ['ellenrls from Baltimore '], ['adamonte from San Francisco, CA '], ['nmura from Glenview, IL '], ['kilpatrich2 from Denver, CO '], ['lizgoldsmith1960 from Lincoln, Ma '], ['ceceliafemenella12 from Ny '], ['rehana6120 '], ['guytonkristi from Ohio '], ['little_bluestem from Altnata, GA '], ['thistletree from San Francisco, California '], ['photon99 '], ['photon99 from Park City, UT '], ['jleehoffman from Maryland '], ['kmt7139 from Dallas '], ['dsarosik1 from Tahoe '], ['pandjdmura from Glendale AZ '], ['7677chapman from Denver '], ['sweepea '], ['supershep from Reno, NV '], ['danthechef from Chicago, IL '], ['loki2 from Maine '], ['lorig13 from NJ! '], ['mdmichelle from Excelsior MN '], ['tinaindenver from Denver '], ['GWK1 from San Francisco, CA '], ['juliachild '], ['karenflute from Silver Spring, MD '], ['gwinivere '], ['eliana20 from London, UK '], ['mkotto10 from Heidelberg '], ['ajjaffin from Washington DC '], ['carolinecolburn from Asheville, NC '], ['ratherski from Toronto, Ontario '], ['sarah12jones212212312 from <a href=\"http:'], ['louiseindr from Minneapolis, MN '], ['rgr13 from NYC '], ['orangebeetle from Stuttgart, Germany '], ['julieaugust from Baltimore, MD '], ['desertwillow from Texas panhandle '], ['ttygarcia from San Francisco '], ['suzanneinbrooklyn '], ['Holl_doll from Cocoa Beach, FL '], ['LadyKaetze from berlin, Germany '], ['sausage_sister from Brooklyn, New York '], ['useppa from Boston '], ['mvpark from Cincinnati, OH '], ['chefcate '], ['hschepp from NYC '], ['mmstrng '], ['f9o8o7d6 from Ivins, UT '], ['djd127 from Quaker Hill, Connecticut  '], ['lorriemengel from Arizona  '], ['lhm '], ['caseykcloud from Northern California  '], ['m_o from Belmont, CA '], ['jmarino33 from Mesa Az '], ['ladylawton from Normal, Illinois '], ['libby_rudo from Yellow Springs, OH '], ['gf4me from New Braunfels, TX '], ['lestell1 from San Francisco, CA '], ['lmacdonal from Beverly, MA '], ['Dancingdoll from Seattle,  WA '], ['alyssakate01 from Nantucket, MA '], ['zelda77 from Washington, DC '], ['cleveland from Ohio '], ['lynnekelleher from Bucks County PA '], ['joannearno from Winnipeg,Canada '], ['sundaycook1 from San Francisco, Ca '], ['moongirl721 from New Troy, Michigan '], ['cherubae '], ['ps826@att.net from NJ transplant to San Antonio TX '], ['millerhaus from seattle WA '], ['Trip365 from NYC '], ['jamesblake from Sacramento, CA '], ['djmeeker from Saranac Lake, NY '], ['thomshap from SE CT '], ['wokandwollben from Seatown '], ['rnicolls from Calgary, Ab '], ['Nabarda1 from Austin, Texas '], ['vintageresources from Denver, CO '], ['tdubbya from California '], ['cybelecochran from Bern, Switzerland '], ['Bussie from Toronto '], ['dstoner from New Mexico '], ['hotfive from Chicago, IL '], ['momonamission '], ['peachygrl from NOLA '], ['xabg '], ['NOVAfoodie from Arlington, VA '], ['laura_lindsay from Philadelphia, PA '], ['kellysimsgallagh from Boston '], [\"cblankenship1120 from Lee's Summit, MO \"], ['ianagrell from San Fran via the UK '], ['cookiemadness from Chicago '], ['jnfisher01 from Philadelphia, PA '], ['Chicagocooks from Chicago, IL '], ['jharker1 from Indiana '], ['edanos from Chicago '], ['sue48114 from Farmington, MI '], ['kgarlan1 from Colorado '], ['jmmee from Sacramento, CA '], ['maggieeates from Lexington, MA '], ['terrypesco5690 from Columbus, OH '], ['bonestdog from Seattle '], ['aker321 from Boston, MA '], ['hashiparmentier from Portland, Oregon '], ['alanna_russell from LA, CA '], ['landre from Milwaukee, WI '], ['tomkennit from Canada '], ['lnp515 from NYC '], ['forevagreenearth from Chicago, IL '], ['scootermom '], ['skhercules '], ['kundwild from Walpole, MA '], ['angelmehta from Chicago, Chicago '], ['sanfranfreddie from San FranciscoSan Francisco '], ['EAlmquist from North Andover, MA '], ['meg28 from Baltimore, MD '], ['linahannigan from Alameda, CA '], ['HMalbec from Montreal, QC '], ['sunipa85 from Austin, TX '], ['carolmacri from Pennsylvania '], ['tori_ellen_g_k from New Zealand '], ['mborts from St. Louis '], ['germangirlheidi from Park Ridge, IL '], ['amerikanerin from Ann Arbor, MI '], ['knotfun11 from Fort Worth, tx '], ['bjml54581 from Chicago, IL '], ['blsteil '], ['alansubo '], ['tracielo from Calgary '], ['pfs2h from Charlotteville, VA '], ['KMD_Chicago from Chicago, IL '], ['migrino from Canada and Las Vegas '], ['Fotaku from Canton, Ohio '], ['lizardgizzard from Oklahoma  '], ['andreab2 from Los Angeles, CA '], ['betsydunklin from Boise ID '], ['cater2meinca from Tustin, CA '], ['jfain from Columbus, Oh '], ['egomagicki from San Francisco '], ['ahanks1 from Vail, Colorado '], ['mirslam from Burlington, VT '], ['chezjudge from Fairfield ct '], ['chezjudge from Fairfield CT '], ['suzmar from Chico, TX '], ['darz from San Pedro, CA '], ['pamelack from Santa Rosa CA '], ['kacyrole from Chicago '], ['ajmcclellan from Dallas, TX '], ['bbglo from NJ '], ['andromeda3 from Orange County, CA '], ['A Cook from Ladera Ranch, CA '], ['jeffnesaisquoi from Monroe, WI '], ['wilkcj04 from Raleigh, NC '], ['bon_bon_joy from Alameda, CA '], ['Marian03 from Aptos, CA '], ['lnilsen '], ['nutcracker from White Plains N,Y. '], ['raynfigi from New York City '], ['PNW_Cook from olympia, wa '], ['vlizzle6 from Medford, MA '], ['hneafie from Seattle '], ['CookBot from Carolinas '], ['wbesser from Memphis, TN '], ['raneylorene from Bergamo, Italy '], ['phaehn007 from San Diego, CA '], ['Dendogs from Los Angeles '], ['kellymcilwrath1 from Alliston, Ontario '], ['suzan22 from Seattl, WA '], ['gracefullikeagazelle from Toronto, ON '], ['didicooks2 from Paris, France '], ['jacy729 from LI New York  '], ['i_fortuna from Texas '], ['luther1 from Flowood, MS '], ['Yummy2Cookie from Phoenix '], ['ktredwine from Coleman, MI '], ['contessacocina from Santa Fe, NM '], ['mdsmya1 from Marin County, Nor Cal '], ['redpop4 from Metairie, LA '], ['keilcpa from Detroit '], ['cookin905 from Ontario, Canada '], ['wgbrow from wdddddcgrrgf '], ['deminicae from Chicago, IL '], ['ddgaks from NC '], ['rvega2010 from Chicago  '], ['crabtownc from Annapolis, MD '], ['memoirdesign from Chicago, Illinois '], ['agaba from Kansas City, MO '], ['cookinglamb '], ['kl487582 from New York '], ['mdpedsconsu from Ellicott City, MD '], ['bwarren_p from Canada, SJ '], ['thirstychicken from Minneapolis  '], ['jakesjag from Indianapolis, IN '], ['limabeen from NY '], ['calipuppy from Minneapolis, Mn. '], ['ysera '], ['spinachdip1 from Chicago, IL '], ['bamohr from Omaha, NE '], ['dstephenson5 from Washington, DC '], ['ladimcbeth from Los Angeles, CA '], ['emsmandms from NYC '], ['kundwild from Walpole, ma '], ['cathy2e_toohey from CA '], ['amychasenh from Alton, NH '], ['vshapi from Los angeles '], ['Habanero84 from Sonora, CA '], ['26thpeggy from Warrenton, VA '], ['plgraham from Southern Ontario '], ['lshilton from Austin, TX '], ['bluegillgirl from Salt Lake City, Utah '], ['giselavaitaitis from Denver, Colorado '], ['christina_wilson from Lake Elsinore, CA '], ['ChefAtHome from Los Angeles, CA '], ['mancie98 from New Jersey '], ['petittir from Indiana '], ['kathwalker from Brooklyn '], ['arhineha from Orlando, FL '], ['intothebend from South Bend, IN '], ['heybooboo '], ['flyintocook '], ['icountbyfives from Sweetwater, TN '], ['mmccbf from Cincinnati, OH '], ['edinan from Dallas, TX '], ['rahappygirl from Houston, TX '], ['sensorydeb from Asheville, NC '], ['seattletaste from Seattle '], ['reganhannah from Oakland, CA '], ['fairsari from Ottawa, Ontario Canada '], ['stanfdfn from Menlo Park, CA '], ['vmill from New Orleans, LA '], ['cynthesizer77 from Santa Clara, CA '], ['sallyho1 from Saint Paul, MN '], ['rlwanp from Tucson az '], ['lisovska_ol from NY, NY '], ['mairi from PEI, Canada '], ['rayejeanne from Boston, MA '], ['MaryCook1 '], ['fberenson from Southport, NC '], ['ncollings from New York '], ['lindsay_betz from Charlotte, NC '], ['ERyder from Washington, DC '], ['cbradbury from Silverton, OR  '], ['egarson1 from Coronado, CA '], ['heathernyc from Miami, FL '], ['c_thompson20 '], ['lja from Weston, Fl '], ['lrshaver4840 from Washington, Dc '], ['ebram from Cleveland, OH '], ['priscillawestbroo from St. Louis, MO '], ['lccmalone from Paris, France '], ['jack121 from Houston, TX '], ['sharonarankin '], ['glasermd from St. Louis '], ['interiordecorater from Bangalore, IN '], ['halfcrazydoor5476 from Redwood City, CA '], ['rbmixon from BatoBBBBb '], ['Tasserlou2 from Asheville NC '], ['akarabinas from Silicon Valley Geek '], ['tburger250 from Kelowna, BC '], ['lthomson1 from Scotland, UK '], ['acyrinca from California '], ['tinagail from Minneapolis '], ['lindalenz from Los Angeles, CA '], ['barb1016 from Washington, DC '], ['mommycakes67 from Southeastern Utah '], ['rdies '], ['bootssapphire from Edmonton, Alberta '], ['chummer from Sonoma County, Ca '], ['vscardenas from Chicago, IL '], ['chauriege7236 from Fremont, CA '], ['organicfoodie from Santa Monica, CA '], ['farmerdms from MD '], ['mags425 '], ['lclaflin from Oakley, CA '], ['shafferl from Northern Colorado '], ['davidsylwester from Ithaca, NY '], ['jprugh from Cleveland '], ['chefche from PC Utah '], ['m3cevoy from Los Angeles '], ['chefche from PC, UT '], ['mneoctober from Virginia '], ['artofamelia from Martinez CA '], ['kjruk from London '], ['squarewaves from Portland, Ore. '], ['mskalka from Decatur, GA '], ['Nsalowich from Royal Oak, MI '], ['wolfeskitchen from Birmingham, AL '], ['eweingarten from Yooperfoodie '], ['blko1 from ABQ, NM '], ['MBOSHKO from Maine '], ['skimommb from Montana  '], ['pdlgardner from Bay Area, California  '], ['gyurko1234 from Pittsburgh, PA '], ['chei from Originally from Mexico City. '], ['asoto from Minnesota '], ['ilovegems3 from NH and Fl.  Snowbird '], ['kschoe '], ['tochefs from Toronto  '], ['miss_mikki from Los Angeles, CA '], ['cholfe from Innisfil, Ontario, Canada '], ['aksh201350 from Bangkok, Thailand '], ['elizbrob '], ['mergs from Spokane, WA '], ['taoheir from Dallas, TX '], ['earlietoo from Tempe, Az '], ['ap5076 from AtlanAtlanta, GA '], ['kenadine87 from Lake Dallas, TXDallas, TX '], ['candylb from Illinois '], ['i_fortuna '], ['monram from Austin, TX  '], ['erickat from Seattle, WA '], ['leenieloo from Mundeleien, IL '], ['mariegrace from Minneapolis, MN '], ['ctho from Sonoma County, CA '], ['souricette from Montréal, Québec, Canada '], ['lavignej from Edgwater, MD '], ['Ktln from San Diego, CA '], ['CrosbyGrimm from St. Louis, MO '], ['aynos from Van Isle, B.C., Canada '], ['bala1954 from Pinehurst, NC '], ['peggywhoknowsfood from Newtown, Pennsylvania  '], ['wkwdeines from Colorado '], ['mriffon from Baltimore, MD '], ['sue99 from Ottawa, canada '], ['frecklepup from Neuk, Scotland '], ['geekstress from Kusadasi, Turkey '], ['floraru from San Francisco, CA '], ['rawesome from Mississauga, ON '], ['cycling_sarah '], ['imcari781 from Long Beach '], ['lcpeterson from Milwaukee, WI '], ['mzotos from New Jersey '], ['allgloryisfleeting from Friday Harbor, WA '], ['pcclaudia from Laval, QC '], ['michellewandzilak@gmail.com from Charlotte NC '], ['jchahboune from Atlanta, GA '], ['andreayung23 from Northern California '], ['hannahmattina '], ['las243 from Wellington FL '], ['cjfkirsch from Somerville, MA '], ['a_warriner21 from Lexington, KY '], ['blueberryshake from Brooklyn  '], ['lindabw44 from Paradise Valley, AZ '], ['twocat74 from Connecticut '], ['mark87889450 from Miller Place, NY '], ['runjenn from Charlotte, NC '], ['shar_griffi from Hampad,NC '], ['simonecahill from Ramsey, NJ '], ['trent880 from Denver. CO '], ['woosterek from Virginia '], ['johnfoss1 '], ['ajbarr from Bend, OR '], ['Gabnlee from Puerto Vallarta, Mexico '], ['sfelt from Sacramento, CA '], ['martiwhite from Connecticut '], ['sctittle from Minneapolis  '], ['bwkimmey from San Diego '], ['Lghpublish from Worcester, Ma '], ['katt19067 from Philadelphia,  PA '], ['atlantisno from Moscow, ID '], ['mingo321 from wa '], ['reelgolfer from FL '], ['sookee0310 from Wisconsin '], ['karinearditi from New York '], ['cbmulder from Arlington, VA '], ['rosebeez from Illinois '], ['ddistefano '], ['Kellan88 from Las vegad '], ['karieeleison from SF Bay Area '], ['martysunderland from Hawaii '], ['sarahjerdon '], ['darcyniels from Canada '], ['stephen206 from Seattle WA '], ['Annegioiosa  from Washington  '], ['snoogerbot from Vancouver WA '], ['debsart from New York '], ['jtf2 from Los Angeles '], ['annape '], ['jlott1 from SC '], ['marstudio from San Francisco, CA '], ['paul_10 from UK '], ['hannahnoll06103 from Minnetonka, MN  '], ['finkster from Los Gatos, CA '], ['agsb1 from Nova Scotia '], ['mel367 from Boston, MA '], ['jrnalls from Richton Park '], ['elizabeth.zdrodowski796 from Royal Palm Beach, FL '], ['marciegauntlett from Peabody MA '], ['donnarhernandez from Carlsbad, CA '], ['rosemariekrausz from Manotick, ON '], ['girlafraid7 from Carlsbad '], ['sukipoodle from Ashland, Oregon '], ['glasermd from St. Louis, MO '], ['gregory_lafrance from Downers Grove, IL. '], ['raclarke from Chesapeake City, MD '], ['dianekde from Long Beach, NY '], ['cook_from_vancouver from Vancouver, BC '], ['gregory_lafrance from Downers Grove,IL. '], ['badaoui from lebanon '], ['lgrymala from Duluth, MN '], ['feedemwell1971 from Seattle, WA '], ['judiemead from Birmingham, AL '], ['mpfriedmann2365 from Toronto, Ontario '], ['jenngaragliano '], ['jenngaragliano from Sonoma County '], ['d1m2 from Eagan, Mn '], ['joshuagilman from New Brunswick NJ '], ['sim0ne from Milwaukee, WI '], ['AlexErnst from Louisville, KY  '], ['janekgrossman7223 from CT '], ['annevictoriabentley from Shelburne, VT '], ['comidadeliciosa from Tucson, Arizona '], ['chefche from Utah '], ['paukenguy from Oakland, CA. '], ['pamgirard from SoCal '], ['charmianentine from Niagara-on-the-Lake, ON '], ['A Cook from San Francisco, CA '], ['amydalayna from South Lake Tahoe, CA '], ['MistyV from Cleveland, OH '], ['Respilosa from Philadelphia, PA '], ['A Cook from St Paul MN '], ['A Cook from Pioneer, CA '], ['sjm182 from Philadelphia, PA '], ['denisecarr '], ['A Cook from tokyo, japan '], ['aokhenry '], ['dkolack from nyc '], ['A Cook from the USA '], ['emilycg from Bellingham, WA '], ['nuvibes80 from San Juan, PR '], ['allison.ceppi1675 from Los Angeles '], ['peartart from Vancouver, BC '], ['Susiemajor from West Hills, CA '], ['liebekim '], ['myers1 from Tacoma, WA '], ['sabinelobos from Buffalo, New York '], ['dmhorn from Boston, MA '], ['entdoc from Charlottesville, VA '], ['feedmysoul from Toronto, Canada  '], ['bikap from Texas '], ['Didi13 from Grand Prairie, TX '], ['akajan8 from Lake Ariel, PA '], ['gilanmg6830 from Israel '], ['raedwulf from Okanagan BC '], ['tearl42 from Charlotte, NC '], ['czf2007 '], ['kbrees from Muskoka, ON '], ['chrispegues from Portland, OR '], ['angiesue from Indiana '], ['valkgoforth from Alamo, CA '], ['danisink from phoenix '], ['foodiephoto from Boston, MA '], ['Lisa_Aurora from Toronto '], ['elvira60 from Canada '], ['Dale G. from Grand Rapids, MI '], ['cookbooker from Dallas, TX '], ['pfield from Overland Park, KS '], ['jonbp from Lodi, CA '], ['macrina440 from Port Townsend, WA '], ['lizjacques from Salem, MA '], ['wrflanagan from New York '], ['sherryhusa from Plainfield, IL '], ['anyccook from New York, NY '], ['TaMaruccia from Beverly Hills, CA '], ['cookbooker '], ['Samara73 from Montpelier, VT '], ['mvantine from Denver, CO  '], ['mohniman3433 from Virginia '], ['jrex1 from Brighton, MI '], ['Baisy from Bloomfield Hills, MI '], ['duspin from Boston, MA '], ['nancypumphrey from Newbury Park, California  '], ['lizchaffin609671 from Kentucky  '], ['kathyl_99 from MA '], ['hzia6 from Media, PA '], ['MonaYoung from Reno, NV '], ['stevefurst from Dallas, TX '], ['lsahu from Portland, Me '], ['jmlarsen from syracuse, ny '], ['crs1122 from Saint Joseph, MO '], ['osuzanna from Hudson VAlley '], ['Elizfonda from Hudson Valley NY '], ['schillercook '], ['gramuesi from Boulder, CO '], ['piratesgold from Chicago '], ['PRMcCalla from Oakton, VA '], ['woolystarches from Philadelphia, PA '], ['amandabrittcomer1 from Olympia, WA '], ['heidi_wika from Houston, TX '], ['jmehra from New Delhi, India '], ['A Cook from Wisconsin '], ['rebeccavt from Vermont '], ['rubyclaire1 from NYC '], ['dave_caldwell1 from Seattle  '], ['kellykrater9718 from Hawaii '], ['Yummy2Cookie from Phoenix, AZ '], ['younghj from The Netherlands '], ['msgbdg@gmail.com from Canton, MI '], ['ajv1 from Boston, MA '], ['MeCookFood from Blacksburg VA '], ['nrlong1 from Reston, VA '], ['Knutty811 from Maryland '], ['fairsari from Ottawa, Canada '], ['spsun3416 from MD '], ['margiggles from Miami, FL  '], ['csuhr '], ['andreahad from Geneva '], ['seattletaste from Seattle, WA '], ['kukkula from Paso Robles, CA '], ['laurihansen60 from Milwuakee '], ['bethany32 from Los Angeles, CA '], ['dfraser922031 from Boston, MA '], ['zombiemom2 from Burr Ridge IL '], ['Einer2 from Hilliard, OH '], ['1phoodphan from Port Washington, NY '], ['ninahaft from Oakland, CA '], ['renientom from Boston, MA '], ['mas030 from NYC '], ['mura from Brooklyn NY '], ['phil61 from Dallas, TX '], ['cdj from Whidbey Island, WA '], ['jabs52 from Northbrook, IL '], ['sin1357 from amherst, ny '], ['cwitzke from Florida'], ['suzwil from Alaska '], ['lmeyer from Houston, TX '], ['murphmar20938 '], ['wabsci from carmel, in '], ['edwardmoclair from Brooklyn ny  '], ['mortimerstreet from Boston, MA '], ['cwitzke from Monpazier, France '], ['skfitz1000 from Virginia  '], ['judyvenero from New York, NY '], ['kyshel from KY '], ['espindad001 from California '], ['sunipa85 '], ['smilks '], ['jesse.a.houser from Chattanooga, Tennessee '], ['kizgrate from roseville, ca '], ['blackeyedsue from Georgian Bay, Ontario '], ['phylora1 from Mill Valley, CA '], ['msneller from Wisconsin '], ['a Chesapeake cook '], ['meantambourine '], ['jana_ferguson8202 from Boston, MA '], ['jaychalam from Hillsborough,NJ '], ['pestogirl1 from Winnipeg,MB. '], ['lambr '], ['lhayner from Coastal Oregon '], ['vodkandtonic from Stroudsburg, PA '], ['kmckp '], ['sharadawn1 from Seattle '], ['sharadawn1 from Seattle, WA '], ['sylvia47 '], ['cybermarissa '], ['cag336 from Madison, WI '], ['sadiemarie from Washington, DC '], ['Mossi from Kitchener, ON '], ['llaaaj from Virginia Beach '], ['taacct.alpha7619 from Manila '], ['lilj424 from Vancouver, BC '], ['bbornstein2 from Lincoln NE '], ['heatherpc from Canada '], ['mariepea from Greenville, SC '], ['baltimoreamateur from Baltimore, MD '], ['arbroun from Washington DC '], ['karensja from baltimore '], ['nightfall from Baltimore, Md '], ['kael '], ['lsvo1 from Brooklyn, NY '], ['annswanson51 from Tx '], ['i_plus_i from Ontario, Canada '], ['lauren.lege1645 from Florida '], ['JoanneHH from New York '], ['jdough25 '], ['farmerdms '], ['plotkinator from Boston, MA '], ['beachmum1 from Anderson, SC '], ['catcitytennis from Palm Springs, CA '], ['natefranklin from Grand Rapids, MI '], ['alsado9988 from Seattle, WA '], ['lostrow from Morgantown wv '], ['mura from Brooklyn, NY '], ['mgwoong from Half Moon Bay, CA '], ['karonveazey from CO '], ['patticakesdarien from Darien, Conn. '], ['peaches05 from Chicagoland '], ['tbaratono from Los Angeles '], ['mtnmeye from Denver '], ['lailaj '], ['sanibelle from Sanibelle, FL '], ['elainesheard from Seattle '], ['jvalerie1 from California '], ['bsw206 from Richmond, VA '], ['aldavis1 from Phila., PA '], ['CDHarper from GermanyerGerGemanyGermanGermany '], ['elizabethbdesign from Pennington, NJ '], ['adjames_go from Sacramento '], ['jholter from Birmingham, MI '], ['ilmarrus from New York City '], ['annanacho from Chicago, IL  '], ['pmaren from St. Paul  '], ['lauri from Austin, TX '], ['aaunheim from Vancouver, BC '], ['Crimegirl from Rockville MD '], ['lnitsa from Brussels, BE '], ['A Cook from CA '], ['A Cook from Tampa, FL '], ['PLLTX from Cleburne TX '], ['marissima from Madison, WI '], ['allisstern from Tampa FL '], ['chanelcc from San Diego, CA '], ['mgildea from Tustin, ca '], ['jraderj from Haarlem, NL '], ['mielober from IITutsstanbul, Turkey '], ['jchahboune from ta, GA '], ['moonlover123XxX from Wexford,Ireland  '], ['sandyps from Malibu, CA '], ['aetolliver from New York, NY '], ['judekazmaier from Texas '], ['denise_g1 from Anguilla, BWI  '], ['katemur '], ['arnold from Bethlehem '], ['jtryczak from Three Lakes, WI '], ['kbwaldman from CT '], ['gpakl5 from Buffalo, NY '], ['kmorrobay from California '], ['pinkyallen from northern California '], ['tbitzer '], ['mflynch from San Jose, CA '], ['lamare78 from Hadley, MA '], ['m_t_ste from Canada '], ['painalabanane from Indianapolis '], ['joycropper from Indianapolis, IN '], ['bmwbigmamma from Sydney, Australia '], ['borbor from Au Train, MI '], ['lewoolcott from Middleburg, VA '], ['kacilles from Columbus, Ohio '], ['JANHEALING from California '], ['Viasolus from London '], ['ruth16 from New Jersey  '], ['czmarje from Lwisville, TX '], ['judecottage from Ottawa canada '], ['thompsonae from Pittsburgh '], ['thompsonae from Pittsburgh, PA '], ['cara_w from Seattle '], ['pvHeather1 from Nuevo Vallarta, Mexico '], ['JoshuaGilman from Boston, MA '], ['jimpan from Connecticut '], ['tsandstedt from Red Hook NY '], ['Becky7221 from Brooklyn, NY '], ['Gypsy_Girl '], ['Debbie41 from NH '], ['abare from NC '], ['jheyn from Seattle '], ['lbarzin from Boston, MA '], ['A Cook from Charleston, SC '], ['Madameoiseau from Grafton, Ontario '], ['Pallyball from Toronto, ON '], ['farmgirl07 from Florida '], ['Mairi from PEI, Canada '], ['Baltisraul from Tallahassee, Fl '], ['ineptune49 from AR '], ['kmt7139 from Dallas, Tx '], ['splaine '], ['tmccauley14 from Greeley, CO '], ['rbrandsix from Washington '], ['tim_in_indy from Noblesville, IN '], ['svalaitis from Maine '], ['pnw_cook from Seattle WA '], ['bonnieww from Roswell, GA '], ['chrisfaist from Kirkland WA '], ['vividkrose from Traveled the world! Currently live in Maryland  '], ['dunsienda '], ['marilynburrows from Laguna Niguel CA '], ['richardschmidt332174 from yonkers ny '], ['Mike72690 from KCK '], ['maggie_theall from Maryland '], ['webwesen '], ['koehlercaleb from Portland, OR '], ['bjcomingsoon '], ['sraymond1 from Tennessee '], ['mknowlton1 from Sequim Washington '], ['skginnny from Northern NY '], ['larawbertani from atlanta, GA '], ['janet_callej from MD '], ['ddeuddeg from Buffalo, NY '], ['tochefs from Toronto '], ['bitsylee from New York '], ['fortheloveofbacon from Santa Barbara, CA '], ['chrisgelica from Washington  '], ['prettyknitty from London UK '], ['Michelleofried1 from Quito, Ecuador '], ['nfinn91 from Denville, NJ  '], ['AP53 from Virginia '], ['givinglight from New Mexico '], ['liafinney1 from Whidby Is, WA '], ['robertylea '], ['sheila rae from Flagstaff Az '], ['pinkcloud '], ['pcclaudia from Montreal, Québec '], ['bmtauscher6787 from Concord, NH '], ['junkocooks from Boston, MA '], ['pattyalbee from San Francisco, CA '], ['lindald from San Francisco, CA '], ['piperlane from Boise, ID '], ['jenplus4fr from Paris, France '], ['jenplus4fr from Paris, Francence '], ['djglotryk '], ['hogansr from St Louis, MO '], ['moonbeanjo from San Francisco '], ['montereyjazzcook from Carmel, CA '], ['kalbi from California '], ['gsconnor225 from Thousand Oaks, CA '], ['racheljoey from Saratoga Springs, NY '], ['unpetitoeuf from Boston, MA '], ['lination1 from Jackson, WY '], ['theresa1960 from Amargosa Valley, NV '], ['hdlev from Boston '], ['nadler from NYC '], ['sidenator from Billings MT '], ['elsaandem '], ['sminde0 from Port Byron, NY '], ['lmanderson from Burtonsville, MD '], ['CataL from Dayton, OH '], ['sarahinkyo from Claremont, CA '], ['schan001 from Durham NC '], ['sarahthompson2 from Chicago '], ['lipsticklibrarian from Vancouver, BC Canada '], ['mishwee from Boston, MA '], ['corayvette from Arizona '], ['teacherhansen from Minneapolis '], ['bretter from Mill Valley, CA '], ['andreat49 from Maryland '], ['cbpappas from Chicago, IL '], ['laurainegibbons from Los Angeles, CA '], ['calanct from San Francisco '], ['grv12345 from Washington '], ['starchgirl from Cleveland '], ['meskue from L.A. '], ['msandersen2155 from Greensboro, NC '], ['rhutcheson from Milwaukee, WI '], ['evangaffney from Brooklyn, NY '], ['moneyles from Boston, MA '], ['Atanak18 from Ottawa, ON '], ['meredith_cheryll from Ottawa ON '], ['jkml from Philadelphia, PA '], ['adriennemiller from Downingtown, PA '], ['theissy from Boston '], ['lharisay from NYC, NY '], ['aylsworth245663 from Portland, OR '], ['pelicanscrash from Chicago '], ['milehighmunchies from Denver, CO '], ['bethstickney from Bermont '], ['mrssammy from Vermont '], ['gigiegge from Charlotte, NC '], ['Magnificat2005 from Leesburg, VA '], ['ecs03 from Los Angeles, CA '], ['stephaniemgraham from Napa Valley, CA '], ['andrews144 from Baltimore'], ['charmingrn from Montreal, Canada '], ['omgirl3344 from northern VA '], ['tonkacook from Austin, Tx and Minneapols, MN '], ['elsaandem from upstate NY '], ['westsidecook from NYC '], ['dsatter from Decatur, GA '], ['alecto07 '], ['scunningham from White Plains,NY '], ['garlicbutter from Mechanicsville, VA '], ['drgonzo71 from NJ '], ['BellaFoodie from Michigan '], ['curi '], ['atlcooks '], ['atlcooks from Redlands, Ca '], ['carterpotts from Scotts Valley, CA '], ['carterpotts from Scotts Valley '], ['A Cook from Denver CO '], ['KDM7 from Paradise Valley, AZ '], ['edankmeyer from williamstown, ma '], ['A Cook from San Francisco '], ['reinncolorranch from Idaho '], ['AmatureChef from Minneapolis '], ['frozenveggie from Brooklyn, NY '], ['yogacabana from New England '], ['A Cook from Boston, MA '], ['Judahandlisa '], ['kmstafford from atlanta '], ['mgullo from Long Island, NY '], ['shmecca1 from Los Angeles, CA '], ['lmrice from kansas city, MO '], ['rebeccadickson from NYC '], ['lourdesjeanne from New York '], ['nbennison from Amherst, NH '], ['catlivesupstairs '], ['MarcyW1a '], ['Emily5260 from Washington, DC '], ['laura32469 from Shepherdstown, WV '], ['glorydaze716 from Israel '], ['longmeadowcook from Longmeadow, MA '], ['aecullen '], ['appymtngirl '], ['esklee from San Francisco, CA '], ['brittneym from Portland, OR '], ['PNW_Cook from Seattle area '], ['Starrysheep from Ft. Lauderdale, FL '], ['ericamrosen '], ['dishoncooking from Boston, MA '], ['A Cook from MA '], ['Oma from Spring Hill, FL '], ['lsaeth '], ['sadieu '], ['csidell from Hoosier '], ['smallkitchenbigpans from Los Angeles, CA '], ['dragonslave88 from Spanaway, WA '], ['wmcdowell1 from Jacksonville, FL '], ['julianne_sombat '], ['pkwp from Winter Park, CO '], ['karenfar from Huntington BEach, CA '], ['craigjepson from Austin '], ['craigjepson from Austin, TX '], ['cindysphinx '], ['kellyputter from Beamsville, ON '], ['juliammee '], ['exerguy from Chicago, IL '], ['wallselm from texas '], ['cleveland from Cleveland, Ohio '], ['4packers from New England '], ['rachel3886 from Baltimore, MD '], ['rbrandsix from US '], ['madamelachef from France '], ['catstory59 from Boston MA '], ['truilo from Ormond Beach, FL '], ['cleo_fee828 from Munich, Germany '], ['car3yc0x from Stockton, CA '], ['desertmaven from British Columbia, Canada '], ['lkkcm from New Orleans, LA  '], ['sheryldunn68 from RI '], ['dirtyhippy from Canton OH '], ['marlowlu from Austin, TX '], ['acwhitney from Union City,NJ '], ['lizhomans1 from San Francisco '], ['judekazmaier from DallasDallas '], ['coffeemate from New Berlin, WI '], ['Shannyn0505 from CT '], ['Shannyn0505 from Connecticut '], ['lysa from san juan capistrano, ca '], ['massonmp from Ottawa, Canada '], ['carolcamacho from El Paso, TXEl Paso, TX '], ['carolynst from Jersey City, NJ '], ['emyancy '], ['callifer from Washington, DC '], ['catfull from Minneapolis '], ['Auntcasey '], ['mselliott from Boston, MS '], ['lauriejb from PA '], ['thebards from CA '], ['miloka from Hawaii '], ['misscaste from NYC '], ['oddwun from Merced, Ca '], ['rjohnston.3627541 '], ['jimbo_c from San San Francisco Francisco '], ['lauren_colandreo from New York, NY '], ['jgbeck '], ['Dappled  '], ['karola from Reston, VA '], ['sandlady from Cape and Island, MA '], ['dcremers from San francisco '], ['kathiet '], ['jackalucy '], ['skhercules from Denver '], ['kerricolbert from Santa Cruz, Ca '], ['giselavaitaitis from Denver,CO '], ['iwwinegal from California '], ['insatiablebonvivant from Chicago '], ['mdeang2003 from Philadelphia '], ['twirlygirly from Warwick, RI '], ['amandag21 from Chicago, IL  '], ['cvdhmd from Chapel Hill, NC '], ['GeorgeBray_1986 from New York, NY '], ['mcash4 '], ['lhhh from Dallas, TX '], ['kit67 from Berea, OH '], ['ioana from Romania '], ['debnev from Redding, CT '], ['T_Leader from Riverdale, NY '], ['bjulia from Silver Spring, MD '], ['1phoodphan from New York, NY '], ['pollie from Jacksonville, Fl '], ['rforsberg from Poland, ME '], ['dcb2 from Lisle, IL '], ['njredhead from Danville, CA '], ['wyattfamily from California '], ['erato476 from Antigua, Guatemala '], ['ffran from VT '], ['gailod1 from Fairfax, VA '], ['pocketbomb from brooklyn, ny '], ['kuchyn from Prague, CZ '], ['LHurley from London, UK '], ['A Cook from Minneapolis, MN '], ['shesamosergirl from Charleston, SC '], ['A Cook from wethersfield, ct '], ['topstewer from Tilburg, the Netherlands '], ['skinnyboy from Chester, England '], ['WarauOkami '], ['A Cook from Dallas, TX '], ['A Cook from Burlington, VT '], ['RachelFeldman from Bend, OR '], ['marilynnergord from Carmel, Ca '], ['rossrenjilian7219 from Chicago, IL  '], ['gretchencita from El Cerrito, CA '], ['bwsteele from San Francisco, Ca '], ['amelia32034 '], ['coverby from Peekskill, NY '], ['stacey.debonville7673 from NH '], ['maryellenkleger from Philadelphia '], ['WIGDOWT from Asheville, NC '], ['pattywb from New York City '], ['sin1357 from buffalo, ny '], ['brezovar from Wisconsin '], ['kaplan45 from Phoenix '], ['desquestions '], ['laurakolk from CT '], ['cflynn327 from Scotland '], ['cricketkris from Boston '], ['climbnbike from San Jose '], ['boshna from Detroit, MI '], ['ktrautner '], ['wowjooles from Erin, ON '], ['rita1946 from San Jose, CA '], ['peter_okee from Santa Rosa, CA '], ['ronalynne from Vancouver BC '], ['mwhiteaz from Tucson '], ['andie1024 from San Rafael '], ['annchamberlin from San Diego, CA '], ['flavourful from Montreal '], ['meganschrenk from Seattle, WA '], ['scamppride from San Diego, CA '], ['stardesign from Stockholm, ME '], ['scamppride from San Diego '], ['madjean from Ottawa, ON '], ['vscardenas from Chicago, IL  '], ['happyck from Los Angeles, CA '], ['ula_ashore from Texas '], ['gmag from CA  '], ['carld from Fairfax, VA '], ['pdlb from Los Angeles, CA '], ['emmehawkins5829 from DC '], ['kidmd13 from Santa Rosa, CA '], ['spiceisnice from Minneapolis, MN '], ['Meglet from Cleveland Ohio '], ['ssehy from Effingham IL '], ['WineWErika1 '], ['A Cook from Mike, WI '], ['Robertas5 from Wisconsin '], ['ednamode from Kensington, CA '], ['ruthinky from Louisville, KY '], ['nastysuprise from Mpls '], ['fraukaiser from New York '], ['agreekgrl from Gilroy, CA '], ['neciedodge from Mequon, WI '], ['opera_cook from New York, NY '], ['bwudcock from Ann Arbor Michigan  '], ['julias_child2 from Ontario, Canada '], ['sand6 from Vancouver Canada '], ['doloresabbott from Connecticut '], ['andy_andersen from Hamilton, ON '], ['abcooks4u from Boston, MA '], ['wimzcal from Arlington, VA '], ['cincisusan '], ['davidsylwester '], ['fmnobil '], ['Dimock14 from Oreogn '], ['scott_dau from Stamford , CTStafmord CTStamford CT '], ['mkhughes11 from San Francisco, CA '], ['IndigoVelvet1 from Phoenix, AZ '], ['tinaindenver from Denver, CO '], ['ddeboer05 from Modesto, CA '], ['mrsimonalvin from Cleveland,Ohio '], ['Tobya from Mokena, IL '], ['graceleah from Oakland, CA '], ['bkon1 from NY '], ['antwan from Wyoming '], ['ellarcher from toronto, Canada '], ['TahoeTwins from Truckee, CA '], ['pingthing from New York, NY '], ['Francus from Charlotte, NC '], ['szatlanta from Atlanta '], ['yaro from Boca Raton, FL '], ['hezzy8 from Lancaster, PA '], ['jobiewan from Portland, OR '], ['Epicentrum from California  '], ['schmem11 from New York, NY '], ['ffran from vt '], ['tiareb from Santa Barbara, CA '], ['slug from Tokyo '], ['jamcnish from Toronto, ON '], ['RTPDC from Washington, DC '], ['ldhitch from Loveland, OH '], ['KTCooks4 from Chicago, Il '], ['abanka from Durham, NC '], ['katya917 from Lake Forest, CA '], ['Dominique03 from Houston, TX '], ['nolee from CT '], ['catwoman7 '], ['Iancookery '], ['forinowahl from Chagrin Falls, OH '], ['foodie8 '], ['foodie8 from Potomac, Md. '], ['leslieogden from Ventura, CA '], ['A Cook from Brooklyn '], ['countrycooker from Glen Rock, PA '], ['juliunruly '], ['soozseq from California '], ['klgils from Port St. Lucie, FL '], ['A Cook from DC '], ['A Cook from Toronto '], ['xmatch from Charleston, WV '], ['susanp130659 from Ellensburg  '], ['mattx33 from Boise ID '], ['highjumper from Dallas, TX '], ['cmata1 from Los Angeles, CA '], ['IamEricaFisher from Long Island, NY '], ['EarlLittlefield from South of Boston, MA '], ['lchan087 '], ['scoutandlilah from Boston  '], ['terrilnell from Brevard NC '], ['jmc11 from La Jolla, CA '], ['stephkwok from Brooklyn, NY '], ['jbristow from Not big city anymore, OK '], ['carolvach from Boston, MA '], ['gward '], ['alexanderk from Rescue, CA '], ['marcyw1a '], ['stacycheer from Greenville, SC '], ['timtheviking2 from Washington, DC '], ['4artssake from SC '], ['davecropley '], ['taratagh from Washington DC '], ['adarab from San Mateo, CA '], ['renee_ozer from Colorado Springs, CO '], ['glloyd from Bucks County, PA '], ['Tcut16 from Denver, CO '], ['kaymac27 from Alexandria, VA '], ['renofoodie from Nevada '], ['janetroche from Philadelphia, PA '], ['karanchimnani from Dubai '], ['braholli3 from Massillon, OH '], ['HiAsh from Arlington, VA  '], ['Sarah Nicole from Garner, NC '], ['missylrn from NH '], ['ilona1 from holon '], ['kunjan from Portland, OR '], ['lisadelgado from San Francisco, CA '], ['scottusmaximus '], ['spunkdisord from Waterloo, ON, Canada '], ['carinacassidy from Toronto, ON '], ['moorloughmary from Edmonton, AB '], ['lexi57 from Emeryville, CA '], ['kbass1 from Los Angles  '], ['sarahlampson9775 from Oregon '], ['cjnorris from Philadelphia PA '], ['cindigilmore from dallas tx '], ['awarriner from Oakland CA '], ['Julia Fox from Solana Beach, CA '], ['helena4998 from Gig Harbor, WA '], ['carokel from Chicago '], ['bkarren from Canada '], ['alfalfarvh3604 from 49th State '], ['disenberg from SSoCalo '], ['ffran from VTVverVV '], ['labrecque5 from NH '], ['Nutellaluvr from Calgary AB '], ['neologique '], ['adriannemyers '], ['momnado from Coronado, CA '], ['smcrn from Newberg, OR '], ['lap91108 from San Marino, CA '], ['linder023 from Hoboken, NJ '], ['chef_koala from san diego '], ['ktsawrey from westford, ma '], ['wyliel from Portland, OR '], ['eaoppert from Chicago, IL '], ['cbprenderga from Montreal, QC '], ['anita1ee '], ['amdleo from Ellington, CT '], ['RENSERC from Dallas, TX '], ['erininroses '], ['sweet from Amherst, NH '], ['carisante1 from Manhattan Beach, CA '], ['Optheria from Phila, PA '], ['hfink1 from Rochester, NY '], ['MamaAngie from South Holland, IL '], ['laurieandMarls '], ['sueski99 from Detroit MI  '], ['dlnordel from Gardena, CA '], ['sarahmlee from San Francisco area '], ['ladylawton from Normal, IL '], ['vnzjunk from U.P. Michigan '], ['plhamill from Loveland, co '], ['sarahmlee '], ['cajonat from Edmonton, AB '], ['jenniferfromtoronto '], ['qliner from Sooke, BCSooke, BCSooke, BC '], ['jmrupp from San Jose, CA '], ['vnzjunk '], ['chalkledge from North Hero, VT '], ['marlyned from Kelowna, B.C. '], ['sjp from Northport, NY '], ['azyooper1 from Sun Lakes, AZ '], ['bhjuli from Orange County, CA '], ['imizrahi1 from Leiden, Netherlands '], ['sbnelson from Kansas City '], ['mitchwile from Calgary, Canada '], ['earthmotherw from Poulsbo, WA '], ['bobsmanor from Los Altos, CA '], ['galinagalanos from El Salvador '], ['cmannn11 from Atlanta, GA '], ['keukacook from Dundee, NY '], ['jsgoboys from Dallas, TX '], ['jrzych from Nj '], ['chauriege7236 from SF Bay Area '], ['chiirioz1 from NYC '], ['jenncc from los angeles  '], ['janejetson from Sydney, Australia '], ['caileen from Malibu, CA '], ['kaettie from Colorado '], ['savilac from NY, NY '], ['allisivycurious '], ['dherron from Grand Rapids, MI '], ['A Cook from Chandler, AZ '], ['kakekoko from ny,ny '], ['A Cook from Portland, Oregon '], ['A Cook from katonah n.y. '], ['annalillia from Brevard NC '], ['A Cook from Tennessee '], ['A Cook from Hoboken, NJ '], ['A Cook from St. Paul, MN '], ['AET from Pittsburgh, PA '], ['deecooks from NYC '], ['corneliasguest8715 from Bethel, CT '], ['dreah323 from Memphis,TN '], ['kelcraft from Boston, MA '], ['annebodywisd from My Motorhome in AZ and Ca mostly '], ['macaw from Tryon, n.c. '], ['hcguy258073 from Laporte, CO '], ['baumtm253125 from Columbus, OH '], ['parisbois from NJ '], ['annellewilliams from Martinsville, VA '], ['dropdeadcookie from East Coast '], ['Denise52 from A place that has better food available for cooking and eating '], ['yazbeansaysmeow from Alexandria, VA '], ['charlottebell from Austin TX '], ['justajusttg '], ['robineverett from San Francisco '], ['maryfflocco from Sparks Glencoe, MD '], ['leighshelton from Portland, OR '], ['CKaty from D.C. '], ['dixie246 from Boston, MA '], ['foodexplorer from Anchorage, Ak '], ['bmer from Toronto, Ontario '], ['wmshenk from Oregon '], ['urbanefarmboy from Seattle, WA '], ['pmccallum from San Diego '], ['jeri_l from Brooklyn, NY '], ['kpfromchicago from Wilmette, IL '], ['andreaeigel from New York  '], ['samanteria from Oregon '], ['kalbfleisch.melissa1480 from St. Louis, MO '], ['pastagirl624 from Cincinnati '], ['tinamae from Boston, MA '], ['kalbfleisch.melissa1480 from Saint Louis, MO '], ['l_ashleymicha from Nashville, TN '], ['vlonkart528 from Margate, NJ '], [\"Kate O'Leary from Detroit \"], ['malikoparadise from Maui, Hawaii '], ['lisa_in_seattle '], ['we2 from Brimfield, MA '], [\"bgjone from St. John's NL Canada  \"], ['jkoss1 from Crystal lake, Il '], ['meggie37 from Houston, TX '], ['MollydMule from Dallas, Tx. '], ['lyndavogt2 from Napa, CA '], ['HappyHealthyLife from West Palm Beach, FL '], ['domletourne '], ['pepskiz from Sacramento, CA '], ['madcat19 from London, UK '], ['butterf7 from phoenix, az '], ['kristy_brown from MN '], ['Barbara Suiter '], ['daisy55 from Buffalo, NY '], ['debmatz55 from Raleigh, NC '], ['paula3636 from Bay Area, CA '], ['suzv from Montreal '], ['alane01 '], ['Bobbiega from North Carolina '], ['bqcarruthers '], ['nellac '], ['cookfancy from Portland, OR '], ['jessica.d.kaplan5310 '], ['pixxer15525 from Berkeley, CA '], ['sveeam '], ['glifeizgo from Georgia  '], ['kmcdill from Mission Hills, Kansas '], ['GEORGEAJACOB  from Cincinnati, OH '], ['westing from Los Angeles, CA '], ['VaninUSA from Phoenix, AZ '], ['debor8 from denver, CO '], ['shari721r from Santa Cruz '], ['dai11 '], ['emmers9 '], ['mellon641 from Philadelphia '], ['jdpurich2971 from Baltimore, MD '], ['sarahgravespaints5244 from Portland, OR '], ['rlud from Regina, SK '], ['angiejerome8092 from Minneapolis, MN '], ['chefrobinchicago from chicago '], ['poneill from Tarrytown, NY '], ['chapstick from Boulder, CO '], ['kathiwojo from Monterey, CA '], ['epi2020 from marblehead ma '], ['zeqiri99 from Dallas, TX '], ['vivzilla from Au '], ['EugeniaBostwick from Southeast Michigan '], ['joleec from Ivoryton, CT '], ['mccon002 from Hillsborough, NC '], ['JHMaurer from Tallahassee, FL '], ['duntel from Saratoga CA '], ['NHNonni from NH Seacoast '], ['maryhunt from Boston, MA '], ['dharrisxx6 from St. Gilgen, Austria '], ['Branford from Branford, CT '], ['A Cook from Wayland, MA '], ['A Cook from san diego '], ['Jill47 '], ['cactuscook1 '], ['CasaDeViolet from Newtown, PA '], ['pastryslave from CA '], ['cmkauf from Weston, FL '], ['judisachs from San Francisco Bay Are '], ['ThreeOrangeCats from Saint Louis '], ['alinaccohen9054 from Brooklyn, NY '], ['lisakelly '], ['jnfailey from Harbor Springs, MI '], [\"ksadamson from Coeur d'Alene, Idaho \"], ['liseh from Vermont '], ['julia28 from Miami, FL '], ['keech from Calgary, AB, Can '], ['mstgeorge001 from New York, NY'], ['jodyinla from Pacific Palisades, CA '], ['speech_chic from Broken Arrow, OK '], ['daveawinter from Calgary '], ['john_muldo from Livermore, CA '], ['yoshihaga22 from Laguna Beach, CA. '], ['rhonda2too from Walnut Creek, CA '], ['gereonk from Sweden '], ['stoopiddogbit from Augusta, Georgia  '], ['laura_b_mv from Mountain View '], ['ennaycats from Brooklyn, NY '], ['patriciabnom from Oregon '], ['sylkken from Ontario, Canada '], ['eguettler from Minneapolis, MN '], ['hido2o9554 from Volo, IL '], ['mmcniff from Roseville, CA '], ['csaundersiam from Portland, OR '], ['OIinnkeeper from Spring City, UT '], ['jdolata from Carmel, CA '], ['lcrabb419 from Arlington, VA '], ['nora.anne.g '], ['kikiw00d from Los Angeles, CA  '], ['sue99 from Canada '], ['zivameira from Massachusetts '], ['lyndabd from NJ '], ['aapfelzweig9407 from Belmont, CA '], ['lmurph '], ['cinzedym from Arlington, VA '], ['hartmankj from New York, NY '], ['swienke from New York '], ['CookInAthens '], ['chubby_ from San Juan, PR '], ['anne_vsa '], ['hganshorn from Calgary, AB '], ['shelliecole '], ['kamh from Boston, ma '], ['janeting from UNew yourkNewNew York '], ['oceanneblake from Lebanon '], ['dr_dulcet from La Mesa, CA '], ['lari1970 from Bay Area, Ca '], ['mariettabrillnyc4167 from Brooklyn, NY '], ['pumpkinsee from Hong Kong '], ['laah1 from Surf CHutHuntinSurf City, USA '], ['pullapint '], ['edho1 '], ['barton6 '], ['enmeyer from LaPorte, IN '], ['AstoriaRose from Milledgeville, GA '], ['johnhenryroberts4244 from Chicago, IL '], ['pjsokal from Dallas '], ['kizgrate from los angeles '], ['RyokoMcQ from Bedford, NH '], ['caarin from montclair, nj '], ['dropdeadcookie from Beautiful Saugerties, NY '], ['impius from Delray Beach, FL '], ['paulmart from Hartford, CT '], ['kathiwojo from Monterey '], ['davidsol1 from Medford, MA '], ['alpal2021 from Chicago '], ['vnat from Chicago '], ['Becky_E from Detroit, MI '], ['nativeamerican from Modesto, CA '], ['mleholmes from Portland, OR '], ['worldbeat from Oakland, CA '], ['travelswithmeg from Orlando, FL '], ['A Cook from Garden City, ny '], ['Tinaindenver from Denver '], ['scampz from Boston '], ['sdostal from Southern WA '], ['Spenddthrift from Newport, RI '], ['A Cook from Montreal '], ['barnaut045625 from El Dorado County, Ca. '], ['massfamilytravelers from Boston, MA '], ['christymaxfield from Minneapolis '], ['yolocat from Gulf Breeze, Florida '], ['tpetrovna from Brooklyn, NY '], ['indianman69 from india '], ['indianman69 from  a tin shack in india '], ['brownieluv from Portland, OR '], ['KarenmNaughton from Westwood, MA '], ['snovalija from Montreal, Canada '], ['jordanpreston from Iowa '], ['daringkelley from Sacramento, CA '], ['demarcate from Brooklyn '], ['tarab2 '], ['Lisabakesalot from Jackson TN '], ['A Cook from Nevada '], ['meerastvargo from Portland, OR '], ['srfrijole from Salem, OR '], ['katpages1 from Thornton, PA '], ['clinehm from Lusaka, Zambia '], ['binx77 from Duxbury, MA '], ['cchatter from New York City '], ['mdmulhern from Alexandria, VA '], ['margaretbooneli2303 from Cleveland, OH '], ['smoot60 from Nashville, TN '], ['FromPHX from Phoenix, AZ '], ['becca_bee from Dallas, TX '], ['greyonblue from Mount Airy, MD '], ['stephanie.r6556 from Fresno, CA '], ['detu from Lancaster, PA '], ['clweis from Wasilla, AK '], ['flowerz from Lafayette, LA '], ['rachw from Chicago, IL '], ['crleonar from Brooklyn, NY '], ['swedishmermaid from miami, fl '], ['Bbqqueen from Reno, Nv '], ['Deb S. from Beaverton, OR '], ['pseawolfe from Mendocino, Calify '], ['libby6 '], ['aschef1 from Orinda CA '], ['blabs from Summit Hill,Pa. '], ['francesepbryan from Gulf Breeze, FL '], ['cards4us '], ['xsnow from Riverside, CA '], ['dimplydots from chicago '], ['surlymonkey from Bedford, Texas '], ['mettek '], ['ljbami '], ['A Cook from Berkeley, Ca '], ['RatticusFinch from Bradenton, Florida '], ['mountain_cook from Vail, CO '], ['A Cook from San Diego, CA '], ['A Cook from White Lake Mi '], ['wdboss from Ellicott City '], ['A Cook from Rural Hall, NC '], ['A Cook from eastern shore, maryland '], ['SavageLettuce from NYC '], ['bltsa from Bremerton, WA '], ['rachelainak1225 from Orlando, FL '], ['five_eighths_inch '], ['ffran from vverervVTVT '], ['nordic_j '], ['organicsoygod from Connecticut '], ['cookforguests from Austria '], ['lilypetals '], ['CarlinMA from Boston, MA '], ['pamelalambert from East Coast '], ['msmelda from Beijing, China '], ['Hase from Colorado cook '], ['lilybous32 '], ['dianesings10 from Sunnyvale, CA '], ['dianesings10 from Sunnyvale '], ['BlueMona from Montreal, Quebec, Canada '], ['MyrtleMinzee from New York '], ['A Cook from Winnetka, IL '], ['A Cook from California '], ['satwood78 from Andover, MA '], ['Tapler from Chicago, IL '], ['churchka from Saint Paul, MN '], ['ERCantor '], ['juniorina from San fran '], ['juniorina from San Francisco CA '], ['gdaymate from Calgary, Canada '], ['NinaDG '], ['Tampakathy from Tampa, FL '], ['ula_ashore '], ['slg8329432 from Texas '], ['jhooberman from Brooklyn, NY '], ['cristinad from Montreal, Canada '], ['rtate12875336 '], ['fdannaker from Charlotte, NC '], ['sheniqua from Corpus Christi '], ['Akk45 from Pittsburgh, PA '], ['teesapeesa from Northern New Jersey '], ['kristinapatterson6113@gmail.com from GA '], ['boydwhitt from chicago '], ['Cassie78 from Ketchikan, Alaska '], ['mewatson1 '], ['jfaucett6525 from Detroit, MI '], ['wafflechip from Toledo, OH '], ['parkersuzannem from Durango, CO '], ['acfager from Carbondale, IL '], ['jenniferhadley from Calgary, AB '], ['lynnkw from Germantown. MD '], ['babycake from Toronto, ON '], ['ouisiek from NJ '], ['monicaandjakob from Toronto '], ['nonni1 from Philadelphia  '], ['lauchlen from Toronto, ON '], ['aliciarosely from westbury, ny '], ['michael17 from Chicago, IL '], ['ekadfw from Corinth, TX '], ['sueduckor from Southern California  '], ['flsandytoes from Tampa, FL '], ['clherrick '], ['patgal from Lake Worth, FL '], ['sajerd from NYC '], ['maurini from Galveston, TX '], ['joyq.cabrera347 from San Diego, Ca '], ['debranni from Harlem, NYC '], ['peterh1 from Tidewater Virginia '], ['bobb27 from Boston,  MA USA '], ['cwestra1 from Minneapolis '], ['marywayland '], ['lhmelk7036 from New England '], ['TerryMA from Cambridge  '], ['chalupa65 from Salt Lake City '], ['brgoldberg from Oakland, CA '], ['rudywhite910@gmail.com from St. Louis, MO '], ['bitteroot from billings mt '], ['yazbeansaysmeow from Washington, DC '], ['toberry from Bozeman, MT '], ['lashesvan from SpencerSpeSpencertown, NYSpencertown, NY '], ['lpotash from Bloomingdale, NJ '], ['ingy2094 from Chicago, IL '], ['persad5 from Creston BC '], ['cjtab from Cincinnati '], ['rparadis2 from Northampton, MA '], ['yswhitakerj from Wyoming '], ['pinkcloud from Onalaska, WA '], ['SC in TO from Toronto, ON '], ['tdotcook from Toronto Area '], ['arietta from Oahu, HI '], ['tpalzki from San Diego  '], ['jbrules from Ridgewood, NJ '], ['eileenbot from Williamstown, MA '], ['senowicki from Boston, MA '], ['nicolebimber from Northern California '], ['airaheta from Burlingame, CA '], ['bena from New York '], ['animatron from Calgary, AB '], ['leslieh108 from Switzerland '], ['jordan80 from West Orange, NJ '], ['sdangelo1 from San Francisco, CA '], ['meklas from Tallahassee '], ['mdmichelle from Excelsior, MN '], ['ladyamn from NYCNYC '], ['dbgraves from Bay Area, CA '], ['scootermom from Virginia '], ['missamy1977 from Texas '], ['rfwilkinson from Memphis, TN '], ['bugthecat from Ottawa ON '], ['jfishma from Chapel Hill, NC '], ['DonaldBishop from Grizzly Flats, CA '], ['kathiebriggs from Northern MI '], ['angietai '], ['mgildea from Tustin, CA '], ['A Cook from Norwell, MA '], ['SheridanBax from Norwell, MA '], ['gretchgly from Hanover, NH '], ['slthomas from Bay Area, CA '], ['katpages1 '], ['kellyh500 from denver, CO '], ['kjmccann from Cambridge, ON '], [\"debkane from Coeur d'Alene, ID \"], ['2andielaine from Olympic Peninsula '], ['heatheraknotts485 from Dana Point, CA '], ['schmegs2981824 '], ['andrea_robertson from Franklin, TN '], ['mstorath from singer Island, FL '], ['tcerveris from New York, NY '], ['blumenthal_sa from Denver '], ['mbwolff from Miami '], ['rainetara from Toronto '], ['murphygrrl '], ['Carinef from Long Island, NY '], ['dtauer from Dracut, Ma '], ['sgstimps from Boston, MA '], ['Marciagowling from MN '], ['ninahaft from Oakland CA '], ['mduma from Arlington, VA '], ['GinaFitz  from New York '], ['lauren_kell from Kalamazoo MI '], [\"kdoumas from Coeur d'Alene, ID \"], ['Schnooks from Powder Springs, GA '], ['skieast '], ['mkopke from Toronto, Canada '], ['akraemer13 from Fresno, CA '], ['yiddishekoppe '], ['sushmasingh from Sacramento, CA '], ['cindysphinx from D.C. '], ['cmoskowitz from Brooklyn, NY '], ['nasal from Earth '], ['joeln from lexington, ma '], ['moonlover123XxX from Wexford, Ireland  '], ['lhneal from Portland, OR '], ['rkw44x from Nashville, TN '], ['maple1900 from Edmonton, AB '], ['juliejohn from Boston '], ['b4marshall from Ypsilanti, Michigan '], ['fondachang from Los Angeles '], ['lylemontgomery from New Orleans LA '], ['ilyssa2 from New York, NY '], ['gumbyh from Wayne, PA '], ['brlevins2297 from Los Altos, CA '], ['sgilbert2 from MD '], ['dreambaby from chicago '], ['EmLipp from Cincinnati '], ['clebron from Brooklyn, NY '], ['laallen from San Francisco, CA '], ['emdean from Madison, WI '], ['abbykinch '], ['afandrei from NoVA '], ['alissaks from Boston '], ['britriss from Seattle, WA '], ['cldaum2828 from Boston '], ['jbhannah from Chandler, AZ '], ['Bizymom from Iowa '], ['Tsnyder5133  from  shelburn, in '], ['sharonkrueger from Palmetto, Florida '], ['junamaria from Sonoma CA '], ['kraspor from Toronto '], ['smulfun from SF BaySF Bau areSF '], ['calarrudaa from c '], ['midwestfarmtotable from Iowa '], ['kaylaas from Arlington, VA '], ['jamaja3 from Gibsonia, PA '], ['carolynsallen from Denver '], ['poshpicante from Texas '], ['bradley2 from Foodietown, ,PA '], ['les.lemon from Gulfport, MS '], ['janrutte4660 from Woodstock, GA '], ['jennseml from Chicago '], ['canadiens1 from Coldstream,BC, Canada '], ['oneandgo from Chicago, IL '], ['esimone from Tampa, FL '], ['shoes58 from Chicago, IL '], ['latemom2000 from Washington DC '], ['sstamm from Virginia Beach, VA '], ['beenthereatethat from San Francisco '], ['azip from CT '], ['lsigall from New York, NY '], ['jan93 from Milton, Ont. Canada '], ['uncommonwoman from Minnesota  '], ['dottie60 from Boston '], ['zeta from Victoria, BC Canada '], ['Lois33 from EGR, Michigan '], ['mccoyj25 from NYC  '], ['ellensalias from St Paul, MN '], ['ryan_scaro from Sterling, VA '], ['ctripp from Colorado Springs, CO '], ['kderevyanik from Southlake TX '], ['thedoughurt from Sioux Falls, SD '], ['serickson from Mn '], ['vallarson1 from Eastland, TX '], ['lauriekei from Oakland, CA  '], ['cathy01 from Philadelphia, PA '], ['drkdesou from Nassau, Bahamas '], ['kderevyanik from Southlake, TX '], ['jcp76 from Pittsburgh, PA '], ['jcp76 from Pittsburgh '], ['mlrn853 from Philadelphia area '], ['waughbash158 from Edmond, OK '], ['mynwt from Annapolis, MD ']]\n"
     ]
    }
   ],
   "source": [
    "print(b)"
   ]
  },
  {
   "cell_type": "code",
   "execution_count": 8,
   "id": "41c01a1e",
   "metadata": {},
   "outputs": [],
   "source": [
    "M=np.zeros((len(b),len(df2)))\n",
    "gp3=-1\n",
    "for i in range(0,len(df2)):\n",
    "    for j in range(0,len(df2[i])):\n",
    "        for t in range(len(b)):\n",
    "            if(df2[i][j][0]==b[t][0]):\n",
    "                gp3=t\n",
    "        M[gp3][i]=df2[i][j][1]\n",
    "        gp3=-1\n",
    "                 "
   ]
  },
  {
   "cell_type": "code",
   "execution_count": 9,
   "id": "7a9fb5e3",
   "metadata": {},
   "outputs": [
    {
     "name": "stdout",
     "output_type": "stream",
     "text": [
      "[[5. 0. 0. ... 0. 0. 0.]\n",
      " [5. 0. 0. ... 0. 0. 0.]\n",
      " [5. 0. 0. ... 0. 0. 0.]\n",
      " ...\n",
      " [0. 0. 0. ... 0. 0. 5.]\n",
      " [0. 0. 0. ... 0. 0. 1.]\n",
      " [0. 0. 0. ... 0. 0. 4.]]\n"
     ]
    },
    {
     "data": {
      "text/plain": [
       "(2884, 289)"
      ]
     },
     "execution_count": 9,
     "metadata": {},
     "output_type": "execute_result"
    }
   ],
   "source": [
    "print(M)\n",
    "M.shape"
   ]
  },
  {
   "cell_type": "code",
   "execution_count": 10,
   "id": "c1255706",
   "metadata": {},
   "outputs": [
    {
     "data": {
      "text/plain": [
       "array([[5., 0., 0., ..., 0., 0., 0.],\n",
       "       [5., 0., 0., ..., 0., 0., 0.],\n",
       "       [5., 0., 0., ..., 0., 0., 0.],\n",
       "       ...,\n",
       "       [0., 0., 0., ..., 0., 0., 0.],\n",
       "       [0., 0., 0., ..., 0., 0., 0.],\n",
       "       [0., 0., 0., ..., 0., 0., 0.]])"
      ]
     },
     "execution_count": 10,
     "metadata": {},
     "output_type": "execute_result"
    }
   ],
   "source": [
    "#insert rating of team members\n",
    "M1=np.zeros((2888,289))\n",
    "for i in range(2884):\n",
    "    for j in range(289):\n",
    "         M1[i][j]=M[i][j]\n",
    "Yu=[19,107,207,56,14,67,130,31]\n",
    "Yu1=[3,1,4,4,3,3,2,5]\n",
    "Pt=[10,21,210,240,170,150,190,280]\n",
    "Pt1=[4,3,5,2,3,4,2,3]\n",
    "Rx=[27,39,78,83,97,127,136,149]\n",
    "Rx1=[4,5,2,1,2,5,4,5]\n",
    "Ll=[85,4,156,257,121,134,238,133]\n",
    "Ll1=[5,5,4,3,3,2,1,2]\n",
    "M1[2884,Yu]=Yu1\n",
    "M1[2885,Pt]=Pt1\n",
    "M1[2886,Rx]=Rx1\n",
    "M1[2887,Ll]=Ll1\n",
    "M=M1\n",
    "M\n",
    "M.shape"
   ]
  },
  {
   "cell_type": "code",
   "execution_count": 11,
   "id": "2cc1b6df",
   "metadata": {},
   "outputs": [],
   "source": [
    "#for user i, the dishes index that has been rated\n",
    "def get_d(M,i):\n",
    "    dishes=[]\n",
    "    for j in range(0,289):\n",
    "        if(M[i][j]>0):\n",
    "            dishes.append(j)\n",
    "    return dishes\n",
    "        "
   ]
  },
  {
   "cell_type": "code",
   "execution_count": 12,
   "id": "93c83b6d",
   "metadata": {},
   "outputs": [],
   "source": [
    "#for dishes j, the users index that has rated the dishes\n",
    "def get_u(M,j):\n",
    "    user=[]\n",
    "    for i in range(0,2888):\n",
    "        if(M[i][j]>0):\n",
    "            user.append(i)\n",
    "    return user"
   ]
  },
  {
   "cell_type": "code",
   "execution_count": 13,
   "id": "f1192989",
   "metadata": {},
   "outputs": [],
   "source": [
    "def sum_v(i,v):\n",
    "    result=0\n",
    "    dishes=get_d(M,i)\n",
    "    for p in dishes:\n",
    "        result=result+np.dot(v[p],v[p].T)\n",
    "    return result "
   ]
  },
  {
   "cell_type": "code",
   "execution_count": 14,
   "id": "1fdfac25",
   "metadata": {},
   "outputs": [],
   "source": [
    "def sum_u(j,u):\n",
    "    result=0\n",
    "    user=get_u(M,j)\n",
    "    for p in user:\n",
    "        result=result+np.dot(u[p],u[p].T)\n",
    "    return result"
   ]
  },
  {
   "cell_type": "code",
   "execution_count": 15,
   "id": "f7eccfcf",
   "metadata": {},
   "outputs": [],
   "source": [
    "def sum_Mv(i,v):\n",
    "    result=0\n",
    "    dishes=get_d(M,i)\n",
    "    for p in dishes:\n",
    "        result=result+M[i][p]*v[p]\n",
    "    return result"
   ]
  },
  {
   "cell_type": "code",
   "execution_count": 16,
   "id": "81c4f6f1",
   "metadata": {},
   "outputs": [],
   "source": [
    "def sum_Mu(j,u):\n",
    "    result=0\n",
    "    user=get_u(M,j)\n",
    "    for p in user:\n",
    "        result=result+M[p][j]*u[p]\n",
    "    return result"
   ]
  },
  {
   "cell_type": "code",
   "execution_count": 17,
   "id": "6be3bc7b",
   "metadata": {
    "scrolled": true
   },
   "outputs": [
    {
     "name": "stdout",
     "output_type": "stream",
     "text": [
      "0\n",
      "1\n",
      "2\n",
      "3\n",
      "4\n",
      "5\n",
      "6\n",
      "7\n",
      "8\n",
      "9\n",
      "10\n",
      "11\n",
      "12\n",
      "13\n",
      "14\n",
      "15\n",
      "16\n",
      "17\n",
      "18\n",
      "19\n",
      "20\n",
      "21\n",
      "22\n",
      "23\n",
      "24\n",
      "25\n",
      "26\n",
      "27\n",
      "28\n",
      "29\n",
      "30\n",
      "31\n",
      "32\n",
      "33\n",
      "34\n",
      "35\n",
      "36\n",
      "37\n",
      "38\n",
      "39\n",
      "40\n",
      "41\n",
      "42\n",
      "43\n",
      "44\n",
      "45\n",
      "46\n",
      "47\n",
      "48\n",
      "49\n",
      "50\n",
      "51\n",
      "52\n",
      "53\n",
      "54\n",
      "55\n",
      "56\n",
      "57\n",
      "58\n",
      "59\n",
      "60\n",
      "61\n",
      "62\n",
      "63\n",
      "64\n",
      "65\n",
      "66\n",
      "67\n",
      "68\n",
      "69\n",
      "70\n",
      "71\n",
      "72\n",
      "73\n",
      "74\n",
      "75\n",
      "76\n",
      "77\n",
      "78\n",
      "79\n",
      "80\n",
      "81\n",
      "82\n",
      "83\n",
      "84\n",
      "85\n",
      "86\n",
      "87\n",
      "88\n",
      "89\n",
      "90\n",
      "91\n",
      "92\n",
      "93\n",
      "94\n",
      "95\n",
      "96\n",
      "97\n",
      "98\n",
      "99\n",
      "100\n",
      "101\n",
      "102\n",
      "103\n",
      "104\n",
      "105\n",
      "106\n",
      "107\n",
      "108\n",
      "109\n",
      "110\n",
      "111\n",
      "112\n",
      "113\n",
      "114\n",
      "115\n",
      "116\n",
      "117\n",
      "118\n",
      "119\n",
      "120\n",
      "121\n",
      "122\n",
      "123\n",
      "124\n",
      "125\n",
      "126\n",
      "127\n",
      "128\n",
      "129\n",
      "130\n",
      "131\n",
      "132\n",
      "133\n",
      "134\n",
      "135\n",
      "136\n",
      "137\n",
      "138\n",
      "139\n",
      "140\n",
      "141\n",
      "142\n",
      "143\n",
      "144\n",
      "145\n",
      "146\n",
      "147\n",
      "148\n",
      "149\n",
      "150\n",
      "151\n",
      "152\n",
      "153\n",
      "154\n",
      "155\n",
      "156\n",
      "157\n",
      "158\n",
      "159\n",
      "160\n",
      "161\n",
      "162\n",
      "163\n",
      "164\n",
      "165\n",
      "166\n",
      "167\n",
      "168\n",
      "169\n",
      "170\n",
      "171\n",
      "172\n",
      "173\n",
      "174\n",
      "175\n",
      "176\n",
      "177\n",
      "178\n",
      "179\n",
      "180\n",
      "181\n",
      "182\n",
      "183\n",
      "184\n",
      "185\n",
      "186\n",
      "187\n",
      "188\n",
      "189\n",
      "190\n",
      "191\n",
      "192\n",
      "193\n",
      "194\n",
      "195\n",
      "196\n",
      "197\n",
      "198\n",
      "199\n"
     ]
    }
   ],
   "source": [
    "v=np.zeros((10,289))\n",
    "for i in range(10):\n",
    "    v[i]=np.random.normal(0,0.5,289)\n",
    "v=v.T #10*289->289*10\n",
    "u=np.zeros((2888,10))\n",
    "for t in range(200):\n",
    "    for i in range(2888):\n",
    "        u[i]=(1/(2*1+sum_v(i,v)))*(sum_Mv(i,v))\n",
    "    for j in range(289):\n",
    "        v[j]=(1/(2*1+sum_u(j,u)))*(sum_Mu(j,u))\n",
    "    print(t)\n",
    "    "
   ]
  },
  {
   "cell_type": "code",
   "execution_count": 18,
   "id": "a091221c",
   "metadata": {},
   "outputs": [
    {
     "name": "stdout",
     "output_type": "stream",
     "text": [
      "[ 4.  3.  3.  3.  3.  4.  4.  0. -1.  3.  4.  5.  2.  3.  4.  3. -0.  5.\n",
      "  4.  3.  4.  4. -2. -1.  4.  3.  4.  4. -1. -1.  1.  1.  5.  5.  3.  0.\n",
      "  0. -1. -0.  2.  4.  5.  1.  4.  4.  1.  0.  5.  5.  1.  4. -1. -0. -1.\n",
      "  4.  1.  3. -1.  4.  4.  3.  3.  0.  5.  1.  1.  5.  4.  4.  1.  0. -1.\n",
      " -0.  3.  4.  4.  4.  0.  3.  1.  3.  3.  0.  2. -1.  5.  5.  0.  3.  0.\n",
      "  0.  4. -2. -1.  4.  4.  4.  4.  0.  4.  4.  1. -2. -1.  4.  0.  4.  1.\n",
      "  5.  2.  4. -1.  3.  0.  0.  5.  4.  4.  5.  0.  0.  4.  4.  5.  1.  4.\n",
      "  3.  4.  3.  1.  2.  0.  3.  3.  3.  4.  3.  0. -0.  4.  2.  3.  4. -1.\n",
      "  5.  5.  3.  5.  0.  2.  5.  1. -0.  0.  1. -1.  2. -2.  3. -0.  4.  0.\n",
      "  4.  4.  0.  3. -3.  0. -1.  4.  2.  3.  5.  4. -2.  0. -1.  1.  4.  0.\n",
      "  3.  5.  1.  5.  4.  4.  4.  5.  0.  4.  2.  1.  1.  1.  5.  1. -0.  3.\n",
      "  0.  4.  3.  3.  0.  5.  4.  0.  5.  3.  4. -0.  4.  4.  3.  5.  4.  5.\n",
      " -0.  1.  5. -1.  3. -0.  1. -1.  0.  3.  4.  0.  0.  0.  5.  5.  4.  0.\n",
      "  2.  3.  2. -1.  3.  3.  4.  0.  0.  1.  0.  4.  4.  2. -0.  5.  1.  5.\n",
      "  3.  3.  0.  0.  2.  4.  1.  4.  3.  0.  4. -1.  3.  4.  4.  5.  1. -0.\n",
      "  5.  3.  5.  3.  3.  1. -2.  4.  0. -0.  5. -0.  4.  5.  5.  5.  4. -0.\n",
      "  1.]\n",
      "[0. 0. 0. 0. 0. 0. 0. 0. 0. 0. 4. 0. 0. 0. 0. 0. 0. 0. 0. 0. 0. 3. 0. 0.\n",
      " 0. 0. 0. 0. 0. 0. 0. 0. 0. 0. 0. 0. 0. 0. 0. 0. 0. 0. 0. 0. 0. 0. 0. 0.\n",
      " 0. 0. 0. 0. 0. 0. 0. 0. 0. 0. 0. 0. 0. 0. 0. 0. 0. 0. 0. 0. 0. 0. 0. 0.\n",
      " 0. 0. 0. 0. 0. 0. 0. 0. 0. 0. 0. 0. 0. 0. 0. 0. 0. 0. 0. 0. 0. 0. 0. 0.\n",
      " 0. 0. 0. 0. 0. 0. 0. 0. 0. 0. 0. 0. 0. 0. 0. 0. 0. 0. 0. 0. 0. 0. 0. 0.\n",
      " 0. 0. 0. 0. 0. 0. 0. 0. 0. 0. 0. 0. 0. 0. 0. 0. 0. 0. 0. 0. 0. 0. 0. 0.\n",
      " 0. 0. 0. 0. 0. 0. 4. 0. 0. 0. 0. 0. 0. 0. 0. 0. 0. 0. 0. 0. 0. 0. 0. 0.\n",
      " 0. 0. 3. 0. 0. 0. 0. 0. 0. 0. 0. 0. 0. 0. 0. 0. 0. 0. 0. 0. 0. 0. 2. 0.\n",
      " 0. 0. 0. 0. 0. 0. 0. 0. 0. 0. 0. 0. 0. 0. 0. 0. 0. 0. 5. 0. 0. 0. 0. 0.\n",
      " 0. 0. 0. 0. 0. 0. 0. 0. 0. 0. 0. 0. 0. 0. 0. 0. 0. 0. 0. 0. 0. 0. 0. 0.\n",
      " 2. 0. 0. 0. 0. 0. 0. 0. 0. 0. 0. 0. 0. 0. 0. 0. 0. 0. 0. 0. 0. 0. 0. 0.\n",
      " 0. 0. 0. 0. 0. 0. 0. 0. 0. 0. 0. 0. 0. 0. 0. 0. 3. 0. 0. 0. 0. 0. 0. 0.\n",
      " 0.]\n",
      "[]\n"
     ]
    }
   ],
   "source": [
    "MP=np.dot(u,v.T)\n",
    "MP=np.around(MP)"
   ]
  },
  {
   "cell_type": "code",
   "execution_count": 19,
   "id": "72346a61",
   "metadata": {},
   "outputs": [
    {
     "data": {
      "text/plain": [
       "4      Grain Salad with Olives and Whole-Lemon Vinaig...\n",
       "85                   Broiled Cod with Fennel and Orange \n",
       "90          Haitian Beef and Pumpkin Soup (Soup Joumou) \n",
       "134           Ricotta-Pumpkin Gnocchi with Brown Butter \n",
       "156          Wine-Braised Brisket With Butternut Squash \n",
       "133             Sheet-Pan Roasted Squash and Feta Salad \n",
       "121                           The Winterized Penicillin \n",
       "238                                    Herbed Chickpeas \n",
       "257       Spanish Frittata with Herby Yogurt and Greens \n",
       "Name: title, dtype: object"
      ]
     },
     "execution_count": 19,
     "metadata": {},
     "output_type": "execute_result"
    }
   ],
   "source": [
    "i=[4,85,90,134,156,133,121,238,257]\n",
    "df1['title'][i]"
   ]
  },
  {
   "cell_type": "code",
   "execution_count": 20,
   "id": "0baada6d",
   "metadata": {},
   "outputs": [
    {
     "name": "stdout",
     "output_type": "stream",
     "text": [
      "[[ 5.  3.  4. ...  4. -0.  1.]\n",
      " [ 5.  3.  4. ...  4. -0.  1.]\n",
      " [ 5.  3.  4. ...  4. -0.  1.]\n",
      " ...\n",
      " [ 4.  3.  3. ...  4. -0.  0.]\n",
      " [ 4.  3.  3. ...  4. -0.  1.]\n",
      " [ 4.  3.  3. ...  4. -0.  1.]]\n"
     ]
    }
   ],
   "source": [
    "print(np.matrix(MP))"
   ]
  },
  {
   "cell_type": "code",
   "execution_count": 21,
   "id": "98125167",
   "metadata": {},
   "outputs": [],
   "source": [
    "MP=MP.T\n",
    "MP=pd.DataFrame(MP)\n",
    "MP=pd.DataFrame.drop(MP,index=\n",
    "[18,\n",
    " 22,\n",
    " 24,\n",
    " 30,\n",
    " 33,\n",
    " 51,\n",
    " 53,\n",
    " 58,\n",
    " 61,\n",
    " 72,\n",
    " 73,\n",
    " 77,\n",
    " 79,\n",
    " 87,\n",
    " 89,\n",
    " 105,\n",
    " 125,\n",
    " 128,\n",
    " 139,\n",
    " 149,\n",
    " 162,\n",
    " 163,\n",
    " 168,\n",
    " 186,\n",
    " 211,\n",
    " 213,\n",
    " 221,\n",
    " 230,\n",
    " 233,\n",
    " 265,\n",
    " 270,\n",
    " 272,\n",
    " 285])\n",
    "MP=MP.reset_index(drop=True)"
   ]
  },
  {
   "cell_type": "code",
   "execution_count": 22,
   "id": "f966d242",
   "metadata": {},
   "outputs": [],
   "source": [
    "MP=MP.values\n",
    "MP=MP.T"
   ]
  },
  {
   "cell_type": "code",
   "execution_count": 23,
   "id": "775ebd8c",
   "metadata": {},
   "outputs": [],
   "source": [
    "df2 = df.dropna(subset=['title','calories','sodium','fat','protein'])\n",
    "df2.reset_index(inplace = True)"
   ]
  },
  {
   "cell_type": "code",
   "execution_count": 24,
   "id": "2556ea37",
   "metadata": {},
   "outputs": [
    {
     "data": {
      "text/html": [
       "<div>\n",
       "<style scoped>\n",
       "    .dataframe tbody tr th:only-of-type {\n",
       "        vertical-align: middle;\n",
       "    }\n",
       "\n",
       "    .dataframe tbody tr th {\n",
       "        vertical-align: top;\n",
       "    }\n",
       "\n",
       "    .dataframe thead th {\n",
       "        text-align: right;\n",
       "    }\n",
       "</style>\n",
       "<table border=\"1\" class=\"dataframe\">\n",
       "  <thead>\n",
       "    <tr style=\"text-align: right;\">\n",
       "      <th></th>\n",
       "      <th>index</th>\n",
       "      <th>title</th>\n",
       "      <th>rating</th>\n",
       "      <th>calories</th>\n",
       "      <th>sodium</th>\n",
       "      <th>fat</th>\n",
       "      <th>protein</th>\n",
       "      <th>personal_rating</th>\n",
       "    </tr>\n",
       "  </thead>\n",
       "  <tbody>\n",
       "    <tr>\n",
       "      <th>0</th>\n",
       "      <td>0</td>\n",
       "      <td>Curried Lentil, Tomato, and Coconut Soup</td>\n",
       "      <td>5.0</td>\n",
       "      <td>437.0</td>\n",
       "      <td>667.0</td>\n",
       "      <td>28.0</td>\n",
       "      <td>13.0</td>\n",
       "      <td>[[rhaeredekop from Winnipeg, MB , 5], [lizgold...</td>\n",
       "    </tr>\n",
       "    <tr>\n",
       "      <th>1</th>\n",
       "      <td>1</td>\n",
       "      <td>Roasted Butternut Squash with Herb Oil and Goa...</td>\n",
       "      <td>4.5</td>\n",
       "      <td>175.0</td>\n",
       "      <td>576.0</td>\n",
       "      <td>9.0</td>\n",
       "      <td>4.0</td>\n",
       "      <td>[[ilyssa2 from NY, NY , 5], [dory92064 from Sa...</td>\n",
       "    </tr>\n",
       "    <tr>\n",
       "      <th>2</th>\n",
       "      <td>2</td>\n",
       "      <td>Pumpkin Muffins</td>\n",
       "      <td>4.0</td>\n",
       "      <td>364.0</td>\n",
       "      <td>183.0</td>\n",
       "      <td>11.0</td>\n",
       "      <td>6.0</td>\n",
       "      <td>[[mtnmeye , 3], [greenstein.rebecca9820 from N...</td>\n",
       "    </tr>\n",
       "    <tr>\n",
       "      <th>3</th>\n",
       "      <td>3</td>\n",
       "      <td>Chopped Salad with Shallot Vinaigrette, Feta, ...</td>\n",
       "      <td>5.0</td>\n",
       "      <td>170.0</td>\n",
       "      <td>413.0</td>\n",
       "      <td>13.0</td>\n",
       "      <td>6.0</td>\n",
       "      <td>[[brushjl from solon, oh , 5], [tatyana_poirie...</td>\n",
       "    </tr>\n",
       "    <tr>\n",
       "      <th>4</th>\n",
       "      <td>4</td>\n",
       "      <td>Grain Salad with Olives and Whole-Lemon Vinaig...</td>\n",
       "      <td>3.5</td>\n",
       "      <td>330.0</td>\n",
       "      <td>483.0</td>\n",
       "      <td>19.0</td>\n",
       "      <td>8.0</td>\n",
       "      <td>[[auntwebbie from Allen, TX , 5], [krf from Be...</td>\n",
       "    </tr>\n",
       "    <tr>\n",
       "      <th>...</th>\n",
       "      <td>...</td>\n",
       "      <td>...</td>\n",
       "      <td>...</td>\n",
       "      <td>...</td>\n",
       "      <td>...</td>\n",
       "      <td>...</td>\n",
       "      <td>...</td>\n",
       "      <td>...</td>\n",
       "    </tr>\n",
       "    <tr>\n",
       "      <th>251</th>\n",
       "      <td>292</td>\n",
       "      <td>White Chicken Chili</td>\n",
       "      <td>5.0</td>\n",
       "      <td>534.0</td>\n",
       "      <td>968.0</td>\n",
       "      <td>14.0</td>\n",
       "      <td>45.0</td>\n",
       "      <td>[[lmanderson from Maryland , 5], [debkane from...</td>\n",
       "    </tr>\n",
       "    <tr>\n",
       "      <th>252</th>\n",
       "      <td>293</td>\n",
       "      <td>One-Pot Curried Cauliflower with Couscous and ...</td>\n",
       "      <td>4.5</td>\n",
       "      <td>606.0</td>\n",
       "      <td>1365.0</td>\n",
       "      <td>15.0</td>\n",
       "      <td>27.0</td>\n",
       "      <td>[[mkopke from Toronto, Canada , 4], [akraemer1...</td>\n",
       "    </tr>\n",
       "    <tr>\n",
       "      <th>253</th>\n",
       "      <td>295</td>\n",
       "      <td>Hummus Dinner Bowls with Spiced Ground Beef an...</td>\n",
       "      <td>4.5</td>\n",
       "      <td>329.0</td>\n",
       "      <td>327.0</td>\n",
       "      <td>26.0</td>\n",
       "      <td>20.0</td>\n",
       "      <td>[[bradley2 from Foodietown, ,PA , 4], [chaurie...</td>\n",
       "    </tr>\n",
       "    <tr>\n",
       "      <th>254</th>\n",
       "      <td>296</td>\n",
       "      <td>Autumn Kale Salad</td>\n",
       "      <td>5.0</td>\n",
       "      <td>287.0</td>\n",
       "      <td>329.0</td>\n",
       "      <td>22.0</td>\n",
       "      <td>4.0</td>\n",
       "      <td>[[dottie60 from Boston , 5], [zeta from Victor...</td>\n",
       "    </tr>\n",
       "    <tr>\n",
       "      <th>255</th>\n",
       "      <td>297</td>\n",
       "      <td>Pumpkin Icebox Pie With Snickerdoodle Crust</td>\n",
       "      <td>4.5</td>\n",
       "      <td>3597.0</td>\n",
       "      <td>1869.0</td>\n",
       "      <td>223.0</td>\n",
       "      <td>33.0</td>\n",
       "      <td>[[Lois33 from EGR, Michigan , 5], [mccoyj25 fr...</td>\n",
       "    </tr>\n",
       "  </tbody>\n",
       "</table>\n",
       "<p>256 rows × 8 columns</p>\n",
       "</div>"
      ],
      "text/plain": [
       "     index                                              title  rating  \\\n",
       "0        0          Curried Lentil, Tomato, and Coconut Soup      5.0   \n",
       "1        1  Roasted Butternut Squash with Herb Oil and Goa...     4.5   \n",
       "2        2                                   Pumpkin Muffins      4.0   \n",
       "3        3  Chopped Salad with Shallot Vinaigrette, Feta, ...     5.0   \n",
       "4        4  Grain Salad with Olives and Whole-Lemon Vinaig...     3.5   \n",
       "..     ...                                                ...     ...   \n",
       "251    292                               White Chicken Chili      5.0   \n",
       "252    293  One-Pot Curried Cauliflower with Couscous and ...     4.5   \n",
       "253    295  Hummus Dinner Bowls with Spiced Ground Beef an...     4.5   \n",
       "254    296                                 Autumn Kale Salad      5.0   \n",
       "255    297       Pumpkin Icebox Pie With Snickerdoodle Crust      4.5   \n",
       "\n",
       "     calories  sodium    fat  protein  \\\n",
       "0       437.0   667.0   28.0     13.0   \n",
       "1       175.0   576.0    9.0      4.0   \n",
       "2       364.0   183.0   11.0      6.0   \n",
       "3       170.0   413.0   13.0      6.0   \n",
       "4       330.0   483.0   19.0      8.0   \n",
       "..        ...     ...    ...      ...   \n",
       "251     534.0   968.0   14.0     45.0   \n",
       "252     606.0  1365.0   15.0     27.0   \n",
       "253     329.0   327.0   26.0     20.0   \n",
       "254     287.0   329.0   22.0      4.0   \n",
       "255    3597.0  1869.0  223.0     33.0   \n",
       "\n",
       "                                       personal_rating  \n",
       "0    [[rhaeredekop from Winnipeg, MB , 5], [lizgold...  \n",
       "1    [[ilyssa2 from NY, NY , 5], [dory92064 from Sa...  \n",
       "2    [[mtnmeye , 3], [greenstein.rebecca9820 from N...  \n",
       "3    [[brushjl from solon, oh , 5], [tatyana_poirie...  \n",
       "4    [[auntwebbie from Allen, TX , 5], [krf from Be...  \n",
       "..                                                 ...  \n",
       "251  [[lmanderson from Maryland , 5], [debkane from...  \n",
       "252  [[mkopke from Toronto, Canada , 4], [akraemer1...  \n",
       "253  [[bradley2 from Foodietown, ,PA , 4], [chaurie...  \n",
       "254  [[dottie60 from Boston , 5], [zeta from Victor...  \n",
       "255  [[Lois33 from EGR, Michigan , 5], [mccoyj25 fr...  \n",
       "\n",
       "[256 rows x 8 columns]"
      ]
     },
     "execution_count": 24,
     "metadata": {},
     "output_type": "execute_result"
    }
   ],
   "source": [
    "df2"
   ]
  },
  {
   "cell_type": "code",
   "execution_count": 31,
   "id": "e693945f",
   "metadata": {},
   "outputs": [
    {
     "name": "stdout",
     "output_type": "stream",
     "text": [
      "[[ 5.  3.  4. ...  4. -0.  1.]\n",
      " [ 5.  3.  4. ...  4. -0.  1.]\n",
      " [ 5.  3.  4. ...  4. -0.  1.]\n",
      " ...\n",
      " [ 4.  3.  3. ...  4. -0.  0.]\n",
      " [ 4.  3.  3. ...  4. -0.  1.]\n",
      " [ 4.  3.  3. ...  4. -0.  1.]]\n"
     ]
    },
    {
     "data": {
      "text/plain": [
       "(2888, 256)"
      ]
     },
     "execution_count": 31,
     "metadata": {},
     "output_type": "execute_result"
    }
   ],
   "source": [
    "print(MP)\n",
    "MP.shape"
   ]
  },
  {
   "cell_type": "code",
   "execution_count": 25,
   "id": "01bc9d20",
   "metadata": {},
   "outputs": [],
   "source": [
    "#np.savetxt('pj2.csv',MP)\n",
    "#sodium=df2['sodium']\n",
    "#np.savetxt('sodium.csv',sodium)\n",
    "#fat=df2['fat']\n",
    "#np.savetxt('fat.csv',fat)\n",
    "#protein=df2['protein']\n",
    "#np.savetxt('protein.csv',protein)"
   ]
  },
  {
   "cell_type": "code",
   "execution_count": 26,
   "id": "6efda632",
   "metadata": {},
   "outputs": [],
   "source": [
    "calories=df2['calories']\n",
    "#np.savetxt('calories.csv',calories)"
   ]
  },
  {
   "cell_type": "code",
   "execution_count": null,
   "id": "ba236882",
   "metadata": {},
   "outputs": [],
   "source": []
  },
  {
   "cell_type": "code",
   "execution_count": null,
   "id": "60a0fcad",
   "metadata": {
    "scrolled": true
   },
   "outputs": [],
   "source": []
  },
  {
   "cell_type": "code",
   "execution_count": null,
   "id": "2def1a79",
   "metadata": {},
   "outputs": [],
   "source": []
  },
  {
   "cell_type": "code",
   "execution_count": null,
   "id": "eae44a90",
   "metadata": {},
   "outputs": [],
   "source": []
  },
  {
   "cell_type": "code",
   "execution_count": null,
   "id": "1c298681",
   "metadata": {},
   "outputs": [],
   "source": []
  },
  {
   "cell_type": "code",
   "execution_count": null,
   "id": "795f21cd",
   "metadata": {},
   "outputs": [],
   "source": []
  }
 ],
 "metadata": {
  "kernelspec": {
   "display_name": "Python 3",
   "language": "python",
   "name": "python3"
  },
  "language_info": {
   "codemirror_mode": {
    "name": "ipython",
    "version": 3
   },
   "file_extension": ".py",
   "mimetype": "text/x-python",
   "name": "python",
   "nbconvert_exporter": "python",
   "pygments_lexer": "ipython3",
   "version": "3.8.8"
  }
 },
 "nbformat": 4,
 "nbformat_minor": 5
}
